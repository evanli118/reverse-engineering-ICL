{
 "cells": [
  {
   "cell_type": "code",
   "execution_count": 44,
   "metadata": {
    "id": "FR8YNR-g9JXA"
   },
   "outputs": [],
   "source": [
    "#@title Imports external sources\n",
    "import os\n",
    "import io\n",
    "import PIL.Image, PIL.ImageDraw, PIL.ImageFont\n",
    "import base64\n",
    "import zipfile\n",
    "import json\n",
    "import requests\n",
    "import matplotlib.pylab as pl\n",
    "import numpy as np\n",
    "import glob\n",
    "import requests\n",
    "import random as pyrandom\n",
    "from concurrent import futures\n",
    "from functools import partial\n",
    "from scipy.ndimage import rotate\n",
    "from IPython.display import Image, HTML, clear_output\n",
    "from tqdm import tqdm_notebook, tnrange\n",
    "import time\n",
    "from typing import Any, MutableMapping, NamedTuple, Tuple"
   ]
  },
  {
   "cell_type": "code",
   "execution_count": 45,
   "metadata": {
    "id": "qOxekrK6Bu_i"
   },
   "outputs": [],
   "source": [
    "import pickle"
   ]
  },
  {
   "cell_type": "code",
   "execution_count": 46,
   "metadata": {
    "colab": {
     "base_uri": "https://localhost:8080/"
    },
    "id": "DEjib65MfKPK",
    "outputId": "1f52024a-5887-4875-a2b4-a81661faf182"
   },
   "outputs": [
    {
     "name": "stderr",
     "output_type": "stream",
     "text": [
      "/opt/anaconda3/lib/python3.11/pty.py:89: RuntimeWarning: os.fork() was called. os.fork() is incompatible with multithreaded code, and JAX is multithreaded, so this will likely lead to a deadlock.\n",
      "  pid, fd = os.forkpty()\n"
     ]
    },
    {
     "name": "stdout",
     "output_type": "stream",
     "text": [
      "\n",
      "\u001b[1m[\u001b[0m\u001b[34;49mnotice\u001b[0m\u001b[1;39;49m]\u001b[0m\u001b[39;49m A new release of pip is available: \u001b[0m\u001b[31;49m24.0\u001b[0m\u001b[39;49m -> \u001b[0m\u001b[32;49m24.2\u001b[0m\n",
      "\u001b[1m[\u001b[0m\u001b[34;49mnotice\u001b[0m\u001b[1;39;49m]\u001b[0m\u001b[39;49m To update, run: \u001b[0m\u001b[32;49mpip install --upgrade pip\u001b[0m\n",
      "\n",
      "\u001b[1m[\u001b[0m\u001b[34;49mnotice\u001b[0m\u001b[1;39;49m]\u001b[0m\u001b[39;49m A new release of pip is available: \u001b[0m\u001b[31;49m24.0\u001b[0m\u001b[39;49m -> \u001b[0m\u001b[32;49m24.2\u001b[0m\n",
      "\u001b[1m[\u001b[0m\u001b[34;49mnotice\u001b[0m\u001b[1;39;49m]\u001b[0m\u001b[39;49m To update, run: \u001b[0m\u001b[32;49mpip install --upgrade pip\u001b[0m\n",
      "\n",
      "\u001b[1m[\u001b[0m\u001b[34;49mnotice\u001b[0m\u001b[1;39;49m]\u001b[0m\u001b[39;49m A new release of pip is available: \u001b[0m\u001b[31;49m24.0\u001b[0m\u001b[39;49m -> \u001b[0m\u001b[32;49m24.2\u001b[0m\n",
      "\u001b[1m[\u001b[0m\u001b[34;49mnotice\u001b[0m\u001b[1;39;49m]\u001b[0m\u001b[39;49m To update, run: \u001b[0m\u001b[32;49mpip install --upgrade pip\u001b[0m\n",
      "\n",
      "\u001b[1m[\u001b[0m\u001b[34;49mnotice\u001b[0m\u001b[1;39;49m]\u001b[0m\u001b[39;49m A new release of pip is available: \u001b[0m\u001b[31;49m24.0\u001b[0m\u001b[39;49m -> \u001b[0m\u001b[32;49m24.2\u001b[0m\n",
      "\u001b[1m[\u001b[0m\u001b[34;49mnotice\u001b[0m\u001b[1;39;49m]\u001b[0m\u001b[39;49m To update, run: \u001b[0m\u001b[32;49mpip install --upgrade pip\u001b[0m\n"
     ]
    }
   ],
   "source": [
    "# !pip install --quiet --upgrade jax\n",
    "# !pip install --quiet --upgrade jaxlib\n",
    "!pip install --quiet jax==0.4.30 jaxlib==0.4.30 #0.4.31 is not compatible, so please do not update\n",
    "import jax\n",
    "from jax import grad, jit, vmap\n",
    "import jax.numpy as jnp\n",
    "\n",
    "!pip install --quiet -U dm-haiku\n",
    "!pip install --quiet -U optax\n",
    "import haiku as hk\n",
    "import math\n",
    "!pip install --quiet -U ml_collections\n",
    "from ml_collections import config_dict\n",
    "import matplotlib.pylab as pl\n",
    "import matplotlib.colors as mcolors\n",
    "colors = pl.colormaps['Dark2']"
   ]
  },
  {
   "cell_type": "code",
   "execution_count": 47,
   "metadata": {
    "colab": {
     "base_uri": "https://localhost:8080/"
    },
    "id": "RRz_S_viajzn",
    "outputId": "67f514d7-6af4-4ce3-ea6e-314bd2b0240c"
   },
   "outputs": [
    {
     "name": "stdout",
     "output_type": "stream",
     "text": [
      "Version: 2.2.1\n",
      "Version: 1.26.4\n",
      "Version: 2.16.1\n",
      "  tensorflow/include/external/stablehlo/_virtual_includes/version/stablehlo/dialect/Version.h\n",
      "  tensorflow/include/external/stablehlo/stablehlo/dialect/Version.h\n",
      "Version: 0.4.30\n",
      "Version: 0.4.30\n"
     ]
    }
   ],
   "source": [
    "!pip show -f pandas numpy tensorflow jax jaxlib | grep Version"
   ]
  },
  {
   "cell_type": "code",
   "execution_count": 48,
   "metadata": {
    "colab": {
     "base_uri": "https://localhost:8080/"
    },
    "id": "lCW5l3VS-95w",
    "outputId": "99cd72dd-905c-4881-95a8-27001eadc7d5"
   },
   "outputs": [
    {
     "name": "stdout",
     "output_type": "stream",
     "text": [
      "Python 3.11.7\r\n"
     ]
    }
   ],
   "source": [
    "!python --version"
   ]
  },
  {
   "cell_type": "code",
   "execution_count": 49,
   "metadata": {
    "id": "gmHTzhw87v8_"
   },
   "outputs": [],
   "source": [
    "os.environ['JAX_PLATFORMS'] = 'gpu'\n",
    "os.environ['ENABLE_PJRT_COMPATIBILITY'] = 'true'"
   ]
  },
  {
   "cell_type": "code",
   "execution_count": 50,
   "metadata": {},
   "outputs": [
    {
     "data": {
      "text/plain": [
       "'/Users/evanli/Desktop/transformers-learn-in-context-by-gradient-descent-main'"
      ]
     },
     "execution_count": 50,
     "metadata": {},
     "output_type": "execute_result"
    }
   ],
   "source": [
    "%pwd"
   ]
  },
  {
   "cell_type": "code",
   "execution_count": 51,
   "metadata": {
    "colab": {
     "base_uri": "https://localhost:8080/"
    },
    "id": "933ztM3DSREA",
    "outputId": "ec702f29-d745-46c1-f436-363759ac2d42"
   },
   "outputs": [],
   "source": [
    "from src.transformer import Transformer\n",
    "from src.data import create_reg_data, create_weights\n",
    "from src.config import config\n",
    "from src.train import *"
   ]
  },
  {
   "cell_type": "code",
   "execution_count": 52,
   "metadata": {
    "cellView": "form",
    "id": "4KwAI4LZFfcF"
   },
   "outputs": [],
   "source": [
    "#@title Config\n",
    "softmax = False #@param {type:\"boolean\"}\n",
    "layernorm = False #@param {type:\"boolean\"}\n",
    "\n",
    "recurrent_Transformer = True #@param {type:\"boolean\"}\n",
    "num_layers = 1 #@param {type:\"integer\"}\n",
    "num_heads = 1 #@param {type:\"integer\"}\n",
    "num_seeds = 1 #@param {type:\"integer\"}\n",
    "\n",
    "config.seed = 0\n",
    "config.local_usage = True\n",
    "\n",
    "####\n",
    "config.deq = recurrent_Transformer\n",
    "config.gd_deq = recurrent_Transformer \n",
    "config.att_only_trans = True\n",
    "####\n",
    "\n",
    "config.pre_train_gd = True\n",
    "config.train_gd_whitening = True\n",
    "config.train_gd_lr = True\n",
    "config.use_bias = False\n",
    "config.include_query = False\n",
    "\n",
    "config.distract_size = 0\n",
    "config.training_steps = 1500 if config.deq else 50000\n",
    "config.training_steps_gd = 1500 if config.gd_deq else 30000\n",
    "config.use_softmax = softmax\n",
    "config.first_layer_sm = False\n",
    "config.use_non_lin_mix = False\n",
    "\n",
    "config.widening_factor = 4\n",
    "\n",
    "config.layer_norm = layernorm\n",
    "config.out_proj = False\n",
    "config.in_proj = False\n",
    "config.adam = True\n",
    "config.dataset_size = 10\n",
    "config.input_size = 1\n",
    "config.key_size = 2\n",
    "config.num_layers = num_layers\n",
    "config.num_heads = num_heads\n",
    "\n",
    "config.grad_clip_value = 10 if num_layers > 2 else 0.001\n",
    "config.grad_clip_value_gd = 10 if num_layers > 2 else 0.001\n",
    "config.lr = 0.0005 if num_layers > 3 else 0.001\n",
    "config.gd_lr = 0.0005 if num_layers > 3 else 0.001\n",
    "config.wd = 0.0\n",
    "config.init_scale = 0.002 / config.num_layers\n",
    "config.bs = 2048\n",
    "config.bs_gd_train = 512\n",
    "config.dampening = 1.0\n",
    "config.clip = 10 if num_layers > 3 else 0 \n",
    "\n",
    "config.dropout_rate = 0.0\n",
    "# data_creator outputs a tuple with three elements, each representing a different aspect of the generated data\n",
    "# seqs: (num_heads, config.dataset_size + 1, config.input_size + 1), target: (num_heads, 1, config.input_size + 1), ws: (batch_size, config.input_size)\n",
    "data_creator = vmap(create_reg_data,\n",
    "                    in_axes=(0, None, None, None, None, None),\n",
    "                    out_axes=0) # vmap expects a batch of random number generators, one for each batch element\n",
    "\n",
    "config.y_update = False\n",
    "config.input_range = 1\n",
    "\n",
    "config.pos_enc = False\n",
    "config.pos_enc_size = 20\n",
    "config.concat_pos_enc = False\n",
    "config.analyse = True\n",
    "\n",
    "config.cycle_data = 0 #0 means online learning\n",
    "config.num_seeds = num_seeds\n",
    "if config.num_layers == 1:\n",
    "  assert config.deq == True\n",
    "  assert config.gd_deq == True\n",
    "\n",
    "if config.num_layers > 1:\n",
    "  assert config.y_update == False\n",
    "\n",
    "config.in_proj = False\n",
    "config.emb_size = 11"
   ]
  },
  {
   "cell_type": "code",
   "execution_count": 53,
   "metadata": {
    "cellView": "form",
    "id": "z9P7XZf7rh6l"
   },
   "outputs": [],
   "source": [
    "#@title Utils\n",
    "pl.rcParams.update({'font.size': 12})\n",
    "pl.rc('axes', labelsize=14)\n",
    "pl.rcParams.update({\n",
    "    \"text.usetex\": False,\n",
    "})\n",
    "\n",
    "import matplotlib.colors as mcolors\n",
    "colors = pl.colormaps['Dark2']\n",
    "def np2pil(a):\n",
    "  if a.dtype in [np.float32, np.float64]:\n",
    "    a = np.uint8(np.clip(a, 0, 1)*255)\n",
    "  return PIL.Image.fromarray(a)\n",
    "\n",
    "def imwrite(f, a, fmt=None):\n",
    "  a = np.asarray(a)\n",
    "  if isinstance(f, str):\n",
    "    fmt = f.rsplit('.', 1)[-1].lower()\n",
    "    if fmt == 'jpg':\n",
    "      fmt = 'jpeg'\n",
    "    f = open(f, 'wb') #GFile.open(f, 'wb')\n",
    "  np2pil(a).save(f, fmt, quality=95)\n",
    "\n",
    "def imencode(a, fmt='jpeg'):\n",
    "  a = np.asarray(a)\n",
    "  if len(a.shape) == 3 and a.shape[-1] == 4:\n",
    "    fmt = 'png'\n",
    "  f = io.BytesIO()\n",
    "  imwrite(f, a, fmt)\n",
    "  return f.getvalue()\n",
    "\n",
    "def moving_average(x, w):\n",
    "    return np.convolve(x, np.ones(w), 'valid') / w\n",
    "\n",
    "def grab_plot(close=True):\n",
    "  \"\"\"Return the current Matplotlib figure as an image.\"\"\"\n",
    "  fig = pl.gcf()\n",
    "  fig.canvas.draw()\n",
    "  img = np.array(fig.canvas.renderer._renderer)\n",
    "  a = np.float32(img[..., 3:]/255.0)\n",
    "  img = np.uint8(255*(1.0-a) + img[...,:3] * a)  # alpha\n",
    "  if close:\n",
    "    pl.close()\n",
    "  return img\n",
    "\n",
    "def display_learning(train, test=None, gt=None, inter=None, title=\"train\",\n",
    "                     title1=\"Trained TF\", title2=\"Test\",\n",
    "                     title3='Gradient descent', title4='Interpolated',\n",
    "                     y_label1 = 'L2 Norm', y_label2 = 'Cosine sim',\n",
    "                     y_lim_l=0,  y_lim_u=1, single_seeds= False,\n",
    "                     plot_title = None,\n",
    "                     y_lim_u2= 1., y_lim_l2=0.,  x_label = 'Training steps',\n",
    "                     second_axis=False, color_add=0, rw=10, num_iter_os=None,\n",
    "                     allow_download=False, plot_num=1, two_plots=False,\n",
    "                     loc_first = 'upper left', label_title=\"Loss\",\n",
    "                     loc_sec='upper left', yscale_log=False, line=\"-\",\n",
    "                     color_axis=True,\n",
    "                     height=3.5, width = 4, ax1=None, ax2=None):\n",
    "\n",
    "  \"\"\"Update learning curve image.\"\"\"\n",
    "\n",
    "  train_list = train\n",
    "  train = np.array(train)\n",
    "  num_seeds_train = train.shape[0]\n",
    "  train_std = np.std(train, axis=0)\n",
    "  train = np.mean(train, axis=0)\n",
    "\n",
    "  if test is not None:\n",
    "    test_list = test\n",
    "    test_std = np.std(test, axis=0)\n",
    "    test = np.mean(test, axis=0)\n",
    "\n",
    "  if gt is not None:\n",
    "    gt_list = gt\n",
    "    gt_std = np.std(gt, axis=0)\n",
    "    gt = np.mean(gt, axis=0)\n",
    "\n",
    "  if inter is not None:\n",
    "    inter_list = inter\n",
    "    inter_std = np.std(inter, axis=0)\n",
    "    inter = np.mean(inter, axis=0)\n",
    "\n",
    "  if plot_num == 1:\n",
    "    fig, ax1 = pl.subplots()\n",
    "    ax1.set_xlabel(x_label)\n",
    "    fig.set_size_inches(width, height)\n",
    "\n",
    "\n",
    "  if test is not None and not second_axis:\n",
    "    x_range = np.arange(0, num_iter_os, int(num_iter_os/len(test)))\n",
    "    if len(test_list) > 1:\n",
    "      if single_seeds:\n",
    "        for s in test_list:\n",
    "          ax1.plot(x_range, s, color=colors(0.1+color_add), alpha=0.2, label=title2,linewidth='2')\n",
    "      else:\n",
    "        ax1.fill_between(x_range, test-test_std, test+test_std ,alpha=0.2, facecolor=colors(0.1+color_add))\n",
    "    ax1.plot(x_range, test, color=colors(0.1+color_add), label=title2,linewidth='3')\n",
    "    #test_avg = moving_average(test, rw)\n",
    "    #ax1.plot(x_range[:len(test_avg)], test_avg, color=colors(0.1+color_add), label=title2)\n",
    "\n",
    "  if gt is not None:\n",
    "    if not second_axis:\n",
    "      x_range = np.arange(0, num_iter_os, int(num_iter_os/len(gt)))\n",
    "      #ax1.plot(x_range[:len(gt[:-rw])], gt[:-rw], color=colors(0.2+color_add), alpha=0.3)\n",
    "      #gt_avg = moving_average(gt, rw)\n",
    "      ax1.plot(x_range, gt, color=colors(0.2+color_add), label=title3,linewidth='3')\n",
    "      if len(gt_list) > 1:\n",
    "        if single_seeds:\n",
    "          for s in gt_list:\n",
    "            ax1.plot(x_range, s, color=colors(0.2+color_add), alpha=0.2, linewidth='2', zorder=0)\n",
    "        else:\n",
    "          ax1.fill_between(x_range, gt-gt_std, gt+gt_std,alpha=0.2, facecolor=colors(0.2+color_add))\n",
    "    else:\n",
    "      x_range = np.arange(0, num_iter_os, int(num_iter_os/len(gt)))\n",
    "      ax1.plot(x_range, gt, color=colors(0.6+color_add), label=title3,linewidth='3')\n",
    "      if len(gt_list) > 1:\n",
    "        if single_seeds:\n",
    "          for s in gt_list:\n",
    "            ax1.plot(x_range, s, color=colors(0.6+color_add), alpha=0.3, linewidth='2', zorder=0)\n",
    "        else:\n",
    "          ax1.fill_between(x_range, gt-gt_std, gt+gt_std ,alpha=0.2, facecolor=colors(0.6+color_add))\n",
    "\n",
    "  if test is not None and second_axis:\n",
    "    x_range = np.arange(0, num_iter_os, int(num_iter_os/len(test)))\n",
    "    ax1.plot(x_range, test, color=colors(0.5+color_add), label=title2,linewidth='3')\n",
    "    #test_avg = moving_average(test, rw)\n",
    "    #ax1.plot(x_range[:len(test_avg)],test_avg, color=colors(0.5+color_add))\n",
    "    if len(test_list) > 1:\n",
    "      if single_seeds:\n",
    "        for s in test_list:\n",
    "          ax1.plot(x_range, s, color=colors(0.5+color_add), linewidth='2', alpha=0.3, zorder=0)\n",
    "      else:\n",
    "        ax1.fill_between(x_range, test-test_std, test+test_std ,alpha=0.2, facecolor=colors(0.5+color_add))\n",
    "\n",
    "  if inter is not None and not second_axis:\n",
    "    x_range = np.arange(0, num_iter_os, int(num_iter_os/len(inter)))\n",
    "    ax1.plot(x_range, inter, color=colors(0.4+color_add), label=title4, linewidth='3', zorder=10)\n",
    "    if len(inter_list) > 1:\n",
    "      if single_seeds:\n",
    "        for s in inter_list:\n",
    "          ax1.plot(x_range, s, color=colors(0.4+color_add), alpha=0.3, linewidth='2', zorder=0)\n",
    "      else:\n",
    "        ax1.fill_between(x_range, inter-inter_std, inter+inter_std ,alpha=0.2, facecolor=colors(0.4+color_add), zorder=1)\n",
    "    #inter_avg = moving_average(inter, rw)\n",
    "    #ax1.plot(x_range[:len(inter_avg)], inter_avg, color=colors(0.7+color_add), label=title4)\n",
    "\n",
    "\n",
    "  if second_axis:\n",
    "    if ax2 is None:\n",
    "      ax2 = ax1.twinx()\n",
    "    ax2.set_zorder(0)\n",
    "    ax1.set_zorder(1)\n",
    "    ax1.set_frame_on(False)\n",
    "    #train_avg = moving_average(train, rw)\n",
    "    #ax2.plot(train[:-rw], color=colors(0.1+color_add), alpha=0.3)\n",
    "    ax2.plot(x_range, train, color=colors(0.4+color_add), label=title1, linewidth='3')\n",
    "    ax2.plot(x_range, np.ones_like(train), \"--\", color=\"gray\", linewidth='0.7')\n",
    "    if len(train_list) > 1:\n",
    "      if single_seeds:\n",
    "        for s in train_list:\n",
    "          print(x_range, s)\n",
    "          ax1.plot(x_range, s, line, color=colors(0.4+color_add), alpha=0.3, linewidth='2', zorder=0)\n",
    "      else:\n",
    "        ax2.fill_between(x_range, train-train_std, train+train_std ,alpha=0.2, facecolor=colors(0.4+color_add))\n",
    "\n",
    "    if color_axis:\n",
    "      ax2.yaxis.label.set_color(colors(0.4+color_add))\n",
    "    else:\n",
    "      legend2 = ax2.legend(loc='upper right', framealpha=0.99, facecolor='white')\n",
    "      legend2.set_zorder(100)\n",
    "    ax2.spines['top'].set_visible(False)\n",
    "  else:\n",
    "    #train_avg = moving_average(train, rw)\n",
    "    if line != \"-\":\n",
    "      ax1.scatter(x_range, train, s=[100 for _ in x_range],\n",
    "                  marker=\"+\", color=colors(0.3+color_add), alpha=1, label=title1, zorder=3, linewidths=3)\n",
    "    else:\n",
    "      ax1.plot(x_range, train, line, color=colors(0.3+color_add), label=title1, linewidth='3', zorder=11)\n",
    "    #ax1.plot(x_range[:len(train_avg)], train_avg, line, color=colors(0.3+color_add), label=title1)\n",
    "    if len(train_list) > 1:\n",
    "      if single_seeds:\n",
    "          for s in train_list:\n",
    "            ax1.plot(x_range, s, line, color=colors(0.3+color_add), alpha=0.3, linewidth='2', zorder=0)\n",
    "      else:\n",
    "        ax1.fill_between(x_range, train-train_std, train+train_std,\n",
    "                       alpha=0.5, facecolor=colors(0.3+color_add))\n",
    "\n",
    "    ax1.legend(loc='best', framealpha=1, facecolor='white')\n",
    "    ax1.spines['right'].set_visible(False)\n",
    "    legend = ax1.legend(loc='upper right', framealpha=0.99, facecolor='white')\n",
    "    legend.set_zorder(100)\n",
    "\n",
    "  legend1 = ax1.legend(loc=loc_first, framealpha=0.99, facecolor='white')\n",
    "  legend1.set_zorder(100)\n",
    "  if second_axis:\n",
    "    ax2.set_ylabel(y_label2)\n",
    "    ax1.set_ylabel(y_label1)\n",
    "    ax1.set_ylim(y_lim_l, y_lim_u)\n",
    "    legend1 = ax1.legend(loc=loc_sec, framealpha=0.99, facecolor='white')\n",
    "    ax2.set_ylim(y_lim_l2, y_lim_u2)\n",
    "    ax1.set_ylim(bottom=0)\n",
    "  else:\n",
    "    pl.ylabel(label_title)\n",
    "    pl.ylim(y_lim_l, y_lim_u)\n",
    "  ax1.spines['top'].set_visible(False)\n",
    "\n",
    "  if plot_title is not None:\n",
    "    pl.title(plot_title)\n",
    "\n",
    "  if yscale_log:\n",
    "    ax1.set_yscale(\"log\")\n",
    "  #pl.title(title)\n",
    "  pl.tight_layout()\n",
    "\n",
    "  if allow_download:\n",
    "    if second_axis:\n",
    "      pl.savefig(\"sim.pdf\", format=\"pdf\")\n",
    "      %download_file sim.pdf\n",
    "    else:\n",
    "      pl.savefig(\"train.pdf\", format=\"pdf\")\n",
    "      %download_file train.pdf\n",
    "  else:\n",
    "    img = grab_plot()\n",
    "    display(Image(data=imencode(img, fmt='jpeg')), display_id=title)\n"
   ]
  },
  {
   "cell_type": "code",
   "execution_count": 54,
   "metadata": {
    "cellView": "form",
    "id": "8ttht5tTEbUs"
   },
   "outputs": [],
   "source": [
    "#@title Lists\n",
    "\n",
    "loss_trans_list =  [[]  for _ in range(config.num_seeds)]\n",
    "loss_trans_train_list =  [[]  for _ in range(config.num_seeds)]\n",
    "losses_gd_list =  [[]  for _ in range(config.num_seeds)]\n",
    "losses_gd_list_trained =  [[]  for _ in range(config.num_seeds)]\n",
    "losses_int_list_trained =  [[]  for _ in range(config.num_seeds)]\n",
    "cos_sim_list, cos_sim_list_o =  [[]  for _ in range(config.num_seeds)],  [[]  for _ in range(config.num_seeds)]\n",
    "grad_norm_list, grad_norm_list_o =  [[]  for _ in range(config.num_seeds)],  [[]  for _ in range(config.num_seeds)]\n",
    "p_norm_list, p_norm_list_o =  [[]  for _ in range(config.num_seeds)],  [[]  for _ in range(config.num_seeds)]\n",
    "\n",
    "cos_sim_list, cos_sim_list_o =  [[]  for _ in range(config.num_seeds)],  [[]  for _ in range(config.num_seeds)]\n",
    "grad_norm_list, grad_norm_list_o =  [[]  for _ in range(config.num_seeds)],  [[]  for _ in range(config.num_seeds)]\n",
    "p_norm_list, p_norm_list_o =  [[]  for _ in range(config.num_seeds)],  [[]  for _ in range(config.num_seeds)]\n",
    "\n",
    "ir_t_list = [[]  for _ in range(config.num_seeds)]\n",
    "ws_t_list = [[]  for _ in range(config.num_seeds)]\n",
    "ir_gd_list = [[]  for _ in range(config.num_seeds)]\n",
    "ws_gd_list = [[]  for _ in range(config.num_seeds)]\n",
    "\n",
    "ir_t_ood_list = [[]  for _ in range(config.num_seeds)]\n",
    "ws_t_ood_list = [[]  for _ in range(config.num_seeds)]\n",
    "ir_gd_ood_list = [[]  for _ in range(config.num_seeds)]\n",
    "ws_gd_ood_list = [[]  for _ in range(config.num_seeds)]\n",
    "\n",
    "ir_gd_trained_list = [[]  for _ in range(config.num_seeds)]\n",
    "ws_gd_trained_list = [[]  for _ in range(config.num_seeds)]\n",
    "ir_gd_ood_trained_list = [[]  for _ in range(config.num_seeds)]\n",
    "ws_gd_ood_trained_list = [[]  for _ in range(config.num_seeds)]\n",
    "\n",
    "ir_inter_list = [[]  for _ in range(config.num_seeds)]\n",
    "ws_inter_list = [[]  for _ in range(config.num_seeds)]\n",
    "ir_inter_ood_list = [[]  for _ in range(config.num_seeds)]\n",
    "ws_inter_ood_list = [[]  for _ in range(config.num_seeds)]\n",
    "\n",
    "\n",
    "losses_noisy_list = [[]  for _ in range(config.num_seeds)]\n",
    "losses_gd_noisy_list = [[]  for _ in range(config.num_seeds)]\n",
    "losses_gd_noisy_trained_list = [[]  for _ in range(config.num_seeds)]\n",
    "losses_inter_noisy_list = [[]  for _ in range(config.num_seeds)]"
   ]
  },
  {
   "cell_type": "code",
   "execution_count": 55,
   "metadata": {
    "cellView": "form",
    "id": "acU234z4zqLf"
   },
   "outputs": [],
   "source": [
    "#@title Logic how to interpolate weights, Appendix A.3 of the paper\n",
    "# returns the test loss of interpolated parameters and the parameters themselves\n",
    "def interpolate_weights(train_state, params_gd, deq=False):\n",
    "  if (config.num_heads == 1 and \n",
    "      config.sum_norm == False and config.deq == True and\n",
    "      config.layer_norm == False and config.att_only_trans == True): \n",
    "\n",
    "    # creates a copy of the current training parameters and renames keys by replacing 'transformer' with 'Transformer_gd'\n",
    "    cur_train_params = {k.replace('transformer', 'Transformer_gd'):v.copy() for \n",
    "                    k,v in train_state.params.items()}\n",
    "    \n",
    "    # A dictionary for interpolated parameters is initialized with zero matrices having the same shape as the original parameters.\n",
    "    inter_params = {k.replace('transformer', 'Transformer_gd'): {'w': jnp.zeros_like(v['w'])} for \n",
    "                    k,v in train_state.params.items()}\n",
    "\n",
    "    # copies the weights for keys, linear layers, queries, and values from both the current training parameters and the gradient descent parameters.\n",
    "    for k,v in cur_train_params.items():\n",
    "      if \"key\" in k:\n",
    "        key_gd  = params_gd[k]['w'].copy() \n",
    "        key  = cur_train_params[k]['w'].copy()\n",
    "      if \"linear\" in k:\n",
    "        linear_gd = params_gd[k]['w'].copy() \n",
    "        linear = cur_train_params[k]['w'].copy() \n",
    "      if \"query\" in k:\n",
    "        query_gd = params_gd[k]['w'].copy() \n",
    "        query = cur_train_params[k]['w'].copy() \n",
    "      if \"value\" in k:\n",
    "        value_gd = params_gd[k]['w'].copy() \n",
    "        value = cur_train_params[k]['w'].copy()        \n",
    "        \n",
    "        # Modifying Query and Key Weights\n",
    "        query = jnp.matmul(query, key.T)\n",
    "        #print(query)\n",
    "        key = jnp.identity(query.shape[0])\n",
    "        mean = np.mean([query[a, a] for a in range(query.shape[0]-1)])\n",
    "        query = query/mean\n",
    "        query_gd = jnp.matmul(query_gd, key.T)\n",
    "        key_gd = jnp.identity(query.shape[0])\n",
    "        query = (query + query_gd)/2\n",
    "\n",
    "        # Modifying Linear and Value Weights\n",
    "        linear = jnp.matmul(value, linear)\n",
    "        #print(linear)\n",
    "        value = jnp.identity(query.shape[0])\n",
    "        linear = linear*mean\n",
    "        linear_gd = jnp.matmul(value_gd, linear_gd)\n",
    "        value_gd = jnp.identity(query.shape[0])\n",
    "        linear = (linear + linear_gd)/2    \n",
    "\n",
    "        # the interpolated weights are stored back into the inter_params dictionary\n",
    "        inter_params[k.replace('value', 'linear')]['w'] = linear\n",
    "        inter_params[k.replace('value', 'value')]['w'] = value\n",
    "        inter_params[k.replace('value', 'query')]['w'] = query\n",
    "        inter_params[k.replace('value', 'key')]['w'] = key\n",
    "        \n",
    "    # applies the interpolated parameters to the model and calculates the loss\n",
    "    losses_int, _, _ = predict_test.apply(inter_params, eval_rng, eval_data, True)\n",
    "  else:\n",
    "    losses_int = None\n",
    "    inter_params = None\n",
    "  return losses_int, inter_params"
   ]
  },
  {
   "cell_type": "markdown",
   "metadata": {},
   "source": [
    "### Please note that if the models are saved already, then only the cells above this one need to be ran before starting the experiments with saved models. Unless we want to run the provided visualizations functions, because we need the lists of different losses to do so. "
   ]
  },
  {
   "cell_type": "code",
   "execution_count": 56,
   "metadata": {
    "cellView": "form",
    "colab": {
     "base_uri": "https://localhost:8080/",
     "height": 360
    },
    "id": "7s4jr3OBpaq9",
    "outputId": "bb4064d0-ec4b-4e6c-9b1a-6e6fc84e18a9"
   },
   "outputs": [
    {
     "name": "stdout",
     "output_type": "stream",
     "text": [
      "Best lr found for  1  steps of gradient descent:  1.1201  with loss  0.0032146622\n"
     ]
    },
    {
     "data": {
      "text/plain": [
       "('Current seed',\n",
       " 0,\n",
       " 'Training step',\n",
       " 1400,\n",
       " 'Gradient descent loss',\n",
       " 0.0032146621961146593,\n",
       " 'GD ++ loss',\n",
       " 0.0032146621961146593,\n",
       " 'Trained TF loss',\n",
       " 0.0032153769861906767,\n",
       " 'Interpolated model loss',\n",
       " 0.003214509692043066,\n",
       " 'Cosine sim TF vs GD',\n",
       " 0.9989999532699585,\n",
       " 'Cosine sim TF vs GD++',\n",
       " '-')"
      ]
     },
     "metadata": {},
     "output_type": "display_data"
    },
    {
     "data": {
      "text/plain": [
       "('Current seed',\n",
       " 0,\n",
       " 'Training step',\n",
       " 1400,\n",
       " 'Gradient descent loss',\n",
       " 0.0032146621961146593,\n",
       " 'GD ++ loss',\n",
       " 0.0032146621961146593,\n",
       " 'Trained TF loss',\n",
       " 0.0032153769861906767,\n",
       " 'Interpolated model loss',\n",
       " 0.003214509692043066,\n",
       " 'Cosine sim TF vs GD',\n",
       " 0.9989999532699585,\n",
       " 'Cosine sim TF vs GD++',\n",
       " '-')"
      ]
     },
     "metadata": {},
     "output_type": "display_data"
    },
    {
     "data": {
      "text/plain": [
       "('Current seed',\n",
       " 0,\n",
       " 'Training step',\n",
       " 1400,\n",
       " 'Gradient descent loss',\n",
       " 0.0032146621961146593,\n",
       " 'GD ++ loss',\n",
       " 0.0032146621961146593,\n",
       " 'Trained TF loss',\n",
       " 0.0032153769861906767,\n",
       " 'Interpolated model loss',\n",
       " 0.003214509692043066,\n",
       " 'Cosine sim TF vs GD',\n",
       " 0.9989999532699585,\n",
       " 'Cosine sim TF vs GD++',\n",
       " '-')"
      ]
     },
     "metadata": {},
     "output_type": "display_data"
    },
    {
     "data": {
      "text/plain": [
       "('Current seed',\n",
       " 0,\n",
       " 'Training step',\n",
       " 1400,\n",
       " 'Gradient descent loss',\n",
       " 0.0032146621961146593,\n",
       " 'GD ++ loss',\n",
       " 0.0032146621961146593,\n",
       " 'Trained TF loss',\n",
       " 0.0032153769861906767,\n",
       " 'Interpolated model loss',\n",
       " 0.003214509692043066,\n",
       " 'Cosine sim TF vs GD',\n",
       " 0.9989999532699585,\n",
       " 'Cosine sim TF vs GD++',\n",
       " '-')"
      ]
     },
     "metadata": {},
     "output_type": "display_data"
    },
    {
     "data": {
      "text/plain": [
       "('Current seed',\n",
       " 0,\n",
       " 'Training step',\n",
       " 1400,\n",
       " 'Gradient descent loss',\n",
       " 0.0032146621961146593,\n",
       " 'GD ++ loss',\n",
       " 0.0032146621961146593,\n",
       " 'Trained TF loss',\n",
       " 0.0032153769861906767,\n",
       " 'Interpolated model loss',\n",
       " 0.003214509692043066,\n",
       " 'Cosine sim TF vs GD',\n",
       " 0.9989999532699585,\n",
       " 'Cosine sim TF vs GD++',\n",
       " '-')"
      ]
     },
     "metadata": {},
     "output_type": "display_data"
    },
    {
     "data": {
      "text/plain": [
       "('Current seed',\n",
       " 0,\n",
       " 'Training step',\n",
       " 1400,\n",
       " 'Gradient descent loss',\n",
       " 0.0032146621961146593,\n",
       " 'GD ++ loss',\n",
       " 0.0032146621961146593,\n",
       " 'Trained TF loss',\n",
       " 0.0032153769861906767,\n",
       " 'Interpolated model loss',\n",
       " 0.003214509692043066,\n",
       " 'Cosine sim TF vs GD',\n",
       " 0.9989999532699585,\n",
       " 'Cosine sim TF vs GD++',\n",
       " '-')"
      ]
     },
     "metadata": {},
     "output_type": "display_data"
    },
    {
     "data": {
      "text/plain": [
       "('Current seed',\n",
       " 0,\n",
       " 'Training step',\n",
       " 1400,\n",
       " 'Gradient descent loss',\n",
       " 0.0032146621961146593,\n",
       " 'GD ++ loss',\n",
       " 0.0032146621961146593,\n",
       " 'Trained TF loss',\n",
       " 0.0032153769861906767,\n",
       " 'Interpolated model loss',\n",
       " 0.003214509692043066,\n",
       " 'Cosine sim TF vs GD',\n",
       " 0.9989999532699585,\n",
       " 'Cosine sim TF vs GD++',\n",
       " '-')"
      ]
     },
     "metadata": {},
     "output_type": "display_data"
    },
    {
     "data": {
      "text/plain": [
       "('Current seed',\n",
       " 0,\n",
       " 'Training step',\n",
       " 1400,\n",
       " 'Gradient descent loss',\n",
       " 0.0032146621961146593,\n",
       " 'GD ++ loss',\n",
       " 0.0032146621961146593,\n",
       " 'Trained TF loss',\n",
       " 0.0032153769861906767,\n",
       " 'Interpolated model loss',\n",
       " 0.003214509692043066,\n",
       " 'Cosine sim TF vs GD',\n",
       " 0.9989999532699585,\n",
       " 'Cosine sim TF vs GD++',\n",
       " '-')"
      ]
     },
     "metadata": {},
     "output_type": "display_data"
    },
    {
     "data": {
      "text/plain": [
       "('Current seed',\n",
       " 0,\n",
       " 'Training step',\n",
       " 1400,\n",
       " 'Gradient descent loss',\n",
       " 0.0032146621961146593,\n",
       " 'GD ++ loss',\n",
       " 0.0032146621961146593,\n",
       " 'Trained TF loss',\n",
       " 0.0032153769861906767,\n",
       " 'Interpolated model loss',\n",
       " 0.003214509692043066,\n",
       " 'Cosine sim TF vs GD',\n",
       " 0.9989999532699585,\n",
       " 'Cosine sim TF vs GD++',\n",
       " '-')"
      ]
     },
     "metadata": {},
     "output_type": "display_data"
    },
    {
     "data": {
      "text/plain": [
       "('Current seed',\n",
       " 0,\n",
       " 'Training step',\n",
       " 1400,\n",
       " 'Gradient descent loss',\n",
       " 0.0032146621961146593,\n",
       " 'GD ++ loss',\n",
       " 0.0032146621961146593,\n",
       " 'Trained TF loss',\n",
       " 0.0032153769861906767,\n",
       " 'Interpolated model loss',\n",
       " 0.003214509692043066,\n",
       " 'Cosine sim TF vs GD',\n",
       " 0.9989999532699585,\n",
       " 'Cosine sim TF vs GD++',\n",
       " '-')"
      ]
     },
     "metadata": {},
     "output_type": "display_data"
    },
    {
     "data": {
      "text/plain": [
       "('Current seed',\n",
       " 0,\n",
       " 'Training step',\n",
       " 1400,\n",
       " 'Gradient descent loss',\n",
       " 0.0032146621961146593,\n",
       " 'GD ++ loss',\n",
       " 0.0032146621961146593,\n",
       " 'Trained TF loss',\n",
       " 0.0032153769861906767,\n",
       " 'Interpolated model loss',\n",
       " 0.003214509692043066,\n",
       " 'Cosine sim TF vs GD',\n",
       " 0.9989999532699585,\n",
       " 'Cosine sim TF vs GD++',\n",
       " '-')"
      ]
     },
     "metadata": {},
     "output_type": "display_data"
    },
    {
     "data": {
      "text/plain": [
       "('Current seed',\n",
       " 0,\n",
       " 'Training step',\n",
       " 1400,\n",
       " 'Gradient descent loss',\n",
       " 0.0032146621961146593,\n",
       " 'GD ++ loss',\n",
       " 0.0032146621961146593,\n",
       " 'Trained TF loss',\n",
       " 0.0032153769861906767,\n",
       " 'Interpolated model loss',\n",
       " 0.003214509692043066,\n",
       " 'Cosine sim TF vs GD',\n",
       " 0.9989999532699585,\n",
       " 'Cosine sim TF vs GD++',\n",
       " '-')"
      ]
     },
     "metadata": {},
     "output_type": "display_data"
    },
    {
     "data": {
      "text/plain": [
       "('Current seed',\n",
       " 0,\n",
       " 'Training step',\n",
       " 1400,\n",
       " 'Gradient descent loss',\n",
       " 0.0032146621961146593,\n",
       " 'GD ++ loss',\n",
       " 0.0032146621961146593,\n",
       " 'Trained TF loss',\n",
       " 0.0032153769861906767,\n",
       " 'Interpolated model loss',\n",
       " 0.003214509692043066,\n",
       " 'Cosine sim TF vs GD',\n",
       " 0.9989999532699585,\n",
       " 'Cosine sim TF vs GD++',\n",
       " '-')"
      ]
     },
     "metadata": {},
     "output_type": "display_data"
    },
    {
     "data": {
      "text/plain": [
       "('Current seed',\n",
       " 0,\n",
       " 'Training step',\n",
       " 1400,\n",
       " 'Gradient descent loss',\n",
       " 0.0032146621961146593,\n",
       " 'GD ++ loss',\n",
       " 0.0032146621961146593,\n",
       " 'Trained TF loss',\n",
       " 0.0032153769861906767,\n",
       " 'Interpolated model loss',\n",
       " 0.003214509692043066,\n",
       " 'Cosine sim TF vs GD',\n",
       " 0.9989999532699585,\n",
       " 'Cosine sim TF vs GD++',\n",
       " '-')"
      ]
     },
     "metadata": {},
     "output_type": "display_data"
    },
    {
     "name": "stdout",
     "output_type": "stream",
     "text": [
      "Trained model parameters saved to /Users/evanli/Desktop/transformers-learn-in-context-by-gradient-descent-main/trained_transformer_in1.pkl\n",
      "Constructed model parameters saved to /Users/evanli/Desktop/transformers-learn-in-context-by-gradient-descent-main/constructed_transformer_in1.pkl\n",
      "Interpolated model parameters saved to /Users/evanli/Desktop/transformers-learn-in-context-by-gradient-descent-main/interpolated_transformer_in1.pkl\n"
     ]
    }
   ],
   "source": [
    "#@title Training\n",
    "\n",
    "# interpolate GD and trained TF iff GD transformer\n",
    "inter = True if (config.deq and not config.use_softmax and config.num_heads == 1) else False\n",
    "\n",
    "eval_rng = jax.random.PRNGKey(5)\n",
    "# initialize the optimizer, training state, and RNG\n",
    "# number of seeds is how many different sets of models are trained \n",
    "for cur_seed in range(0, config.num_seeds):\n",
    "  config.seed = cur_seed\n",
    "  optimiser, train_state, _, rng = init() # training state of the trained Transformer is initialized \n",
    "  rng, data_rng = jax.random.split(rng, 2)\n",
    "  if config.analyse:\n",
    "    # Finds the best learning rate (lr_min) for gradient descent using a function scan_lrs\n",
    "    # lr_min will also be used in the weight construction for the constructed transformer\n",
    "    # scan_lrs used weights that are all 0 to evaluate test loss, because W_0 is initialized to 0\n",
    "    lr_min, min_loss = scan_lrs(eval_rng, lin_diag=False, bs=10000)\n",
    "    if cur_seed == 0:\n",
    "      print('Best lr found for ', config.num_layers ,' steps of gradient descent: ', lr_min/config.dataset_size, \" with loss \", min_loss)\n",
    "      # num_layers = steps of gradient desent\n",
    "      # lr_min/config.dataset_size is nu/N, which is the learning rate of the ICL GD. \n",
    "\n",
    "    # Initializes parameters for gradient descent (params_gd) and potentially pre-trained parameters (params_gd_trained).\n",
    "    # This initialization directly creates the weights without any further processing or training.\n",
    "    # weight creation is done according to construction in prop 1, leading to a LSA that updates its test token by GD\n",
    "    params_gd = create_weights(config.input_size, 1, config.dataset_size, lr_min,\n",
    "                                jax.random.normal(data_rng, shape=[1, 1, config.input_size])*0 ,\n",
    "                              lin_diag=False, gd_deq=config.gd_deq,\n",
    "                               num_layers=config.num_layers,\n",
    "                               input_mlp_rnd=rng if (config.input_mlp or config.in_proj) else None,\n",
    "                               in_proj=config.in_proj)\n",
    "    if config.num_layers > 1 or (config.in_proj and config.num_layers == 1):\n",
    "      if cur_seed == 0:\n",
    "        lr_min, min_loss = scan_lrs(eval_rng, lin_diag=True, bs=10000)\n",
    "        params_init = create_weights(config.input_size, 1, config.dataset_size, lr_min,\n",
    "                                  jax.random.normal(data_rng, shape=[1, 1, config.input_size])*0,\n",
    "                                lin_diag=True, gd_deq=config.gd_deq,\n",
    "                                num_layers=config.num_layers,\n",
    "                                input_mlp_rnd=eval_rng if (config.input_mlp or config.in_proj) else None,\n",
    "                               in_proj=config.in_proj)\n",
    "        params_gd_trained, data_rng = pre_train_gd_hps(eval_rng, params_init) # GD ++ parameters, for deeper transformers\n",
    "    else:\n",
    "        params_gd_trained = params_gd # if not GD++, then the two parameters are both GD\n",
    "        \n",
    "  # Creates evaluation data with the functions in data.py, data[0] contains x, data[1] contains y, data[2] contains w\n",
    "  eval_data = data_creator(jax.random.split(eval_rng, num=10000),\n",
    "                               config.input_size,\n",
    "                               config.dataset_size,\n",
    "                               config.size_distract,\n",
    "                               config.input_range,\n",
    "                               config.weight_scale)\n",
    "\n",
    "  # if in analysis mode, computes losses for the gradient descent parameters and the trained parameters\n",
    "  if config.analyse:\n",
    "    loss_gd, _, _ = predict_test.apply(params_gd, eval_rng, eval_data,True) # GD loss of constructed transformer, applying params_gd to predict_test\n",
    "    loss_gd_trained, _, _ = predict_test.apply(params_gd_trained, eval_rng,\n",
    "                                                eval_data, True)    # GD++ loss of constructed transformer\n",
    "    \n",
    "  # training loop \n",
    "  original_data_rng = data_rng   \n",
    "  for step in range(config.training_steps):\n",
    "    if config.cycle_data > 0:\n",
    "      if step % config.cycle_data == 0:\n",
    "        data_rng = original_data_rng\n",
    "\n",
    "    rng, data_rng = jax.random.split(data_rng, 2)\n",
    "    # Creates new training data for each step\n",
    "    train_data = data_creator(jax.random.split(rng, num=config.bs), # config.bs is batch_size \n",
    "                              config.input_size,\n",
    "                              config.dataset_size,\n",
    "                              config.size_distract,\n",
    "                              config.input_range,\n",
    "                              config.weight_scale)\n",
    "    # Updates the trained transformer's parameters and collects metrics\n",
    "    train_state, metrics = update(train_state, train_data, optimiser)\n",
    "    # Every 100 steps, the model is evaluated on the test data, and various losses and similarities are computed and stored\n",
    "    if step % 100 == 0:\n",
    "      # transformer's forward pass is applied on eval_data, notice that gd parameter is set to false \n",
    "      loss_trans, _, _ = predict_test.apply(train_state.params, eval_rng,\n",
    "                                            eval_data, False)\n",
    "      loss_trans_list[cur_seed].append(loss_trans) # trained transformer loss on test data\n",
    "      # training loss for trained transformer forward pass\n",
    "      loss_trans_train_list[cur_seed].append(metrics['train_loss'].item(),)\n",
    "      if config.analyse: # this will be executed \n",
    "        losses_gd_list[cur_seed].append(loss_gd) # add GD loss to list\n",
    "        losses_gd_list_trained[cur_seed].append(loss_gd_trained) # add GD++ loss to list\n",
    "        \n",
    "        losses_int, inter_params = interpolate_weights(train_state, params_gd_trained) # interpolated weights and loss \n",
    "\n",
    "        losses_int_list_trained[cur_seed].append(losses_int) # add interpolated loss to list\n",
    "\n",
    "        # Alignment Transformers and GD\n",
    "        cos_sim, w_norm, p_norm = analyse(eval_data, train_state, eval_rng, \n",
    "                                          params_gd) \n",
    "        cos_sim_o, w_norm_o, p_norm_o = analyse(eval_data, train_state, eval_rng, \n",
    "                                          params_gd_trained)\n",
    "        \n",
    "        # look here for what each metric is for\n",
    "        if step > 0:\n",
    "          display((\"Current seed\", cur_seed, \n",
    "                   \"Training step\", step, \"Gradient descent loss\", loss_gd.item(), \n",
    "                    \"GD ++ loss\", loss_gd_trained.item(), \n",
    "                    \"Trained TF loss\", loss_trans.item(),\n",
    "                    \"Interpolated model loss\", losses_int.item() if inter else \"-\", \n",
    "                    \"Cosine sim TF vs GD\", cos_sim.item(), \n",
    "                    \"Cosine sim TF vs GD++\", cos_sim_o.item() if config.num_layers > 1 else \"-\"),\n",
    "                    display_id=\"Cur met\") \n",
    "        \n",
    "        cos_sim_list[cur_seed].append(cos_sim)\n",
    "        grad_norm_list[cur_seed].append(w_norm)\n",
    "        p_norm_list[cur_seed].append(p_norm)\n",
    "\n",
    "        cos_sim_list_o[cur_seed].append(cos_sim_o)\n",
    "        grad_norm_list_o[cur_seed].append(w_norm_o)\n",
    "        p_norm_list_o[cur_seed].append(p_norm_o)\n",
    "\n",
    "      else:\n",
    "        print(step, loss_trans)\n",
    "\n",
    "\n",
    "  # saving the trained transformer, so we don't have to go through training every time\n",
    "  directory = os.getcwd()\n",
    "  name = 'trained_transformer_in10.pkl' if config.input_size == 10 else 'trained_transformer_in1.pkl'\n",
    "  file_path = os.path.join(directory, name)\n",
    "  model_params = train_state.params\n",
    "  with open(file_path, 'wb') as f:\n",
    "      pickle.dump(model_params, f)\n",
    "\n",
    "  print(f\"Trained model parameters saved to {file_path}\")\n",
    "\n",
    "  # saving the constructed transformer\n",
    "  constructed_name = 'constructed_transformer_in10.pkl' if config.input_size == 10 else 'constructed_transformer_in1.pkl'\n",
    "  file_path_c = os.path.join(directory, constructed_name)\n",
    "  c_model_params = params_gd\n",
    "  with open(file_path_c, 'wb') as f:\n",
    "      pickle.dump(c_model_params, f)\n",
    "\n",
    "  print(f\"Constructed model parameters saved to {file_path_c}\")\n",
    "\n",
    "  interpolated_name = 'interpolated_transformer_in10.pkl' if config.input_size == 10 else 'interpolated_transformer_in1.pkl'\n",
    "  file_path_i = os.path.join(directory, interpolated_name)\n",
    "  _, i_model_params = interpolate_weights(train_state, params_gd)\n",
    "  with open(file_path_i, 'wb') as f:\n",
    "      pickle.dump(i_model_params, f)\n",
    "        \n",
    "  print(f\"Interpolated model parameters saved to {file_path_i}\")\n",
    "\n",
    "  # the section from here should be irrelvant for my purpose, as of now\n",
    "  if config.analyse:\n",
    "\n",
    "    # Out-of-training-distribution behaviour\n",
    "    ir_t, ws_t, ir_gd, ws_gd, _ = ood(train_state, eval_rng, params_gd, 1000)\n",
    "\n",
    "    ir_t_list[cur_seed].append(ir_t)\n",
    "    ws_t_list[cur_seed].append(ws_t)\n",
    "    ir_gd_list[cur_seed].append(ir_gd)\n",
    "    ws_gd_list[cur_seed].append(ws_gd)\n",
    "\n",
    "    # More Out-of-training-distribution behaviour\n",
    "    ir_t_ood, ws_t_ood, ir_gd_ood, ws_gd_ood, _=ood_other_d(train_state,\n",
    "                                                                  eval_rng,\n",
    "                                                                  params_gd)\n",
    "    ir_t_ood_list[cur_seed].append(ir_t_ood)\n",
    "    ws_t_ood_list[cur_seed].append(ws_t_ood)\n",
    "    ir_gd_ood_list[cur_seed].append(ir_gd_ood)\n",
    "    ws_gd_ood_list[cur_seed].append(ws_gd_ood)\n",
    "\n",
    "    # Out-of-training-distribution behaviour\n",
    "    _, _, ir_gd_trained, ws_gd_trained, _ = ood(train_state, eval_rng,\n",
    "                                            params_gd_trained, 1000)\n",
    "\n",
    "    # More Out-of-training-distribution behaviour\n",
    "    _, _, ir_gd_ood_trained, ws_gd_ood_trained, _= ood_other_d(train_state,\n",
    "                                                                  eval_rng,\n",
    "                                                                  params_gd_trained)\n",
    "\n",
    "    ir_gd_trained_list[cur_seed].append(ir_gd_trained)\n",
    "    ws_gd_trained_list[cur_seed].append(ws_gd_trained)\n",
    "    ir_gd_ood_trained_list[cur_seed].append(ir_gd_ood_trained)\n",
    "    ws_gd_ood_trained_list[cur_seed].append(ws_gd_ood_trained)\n",
    "\n",
    "    if inter:\n",
    "      #Out-of-training-distribution behaviour\n",
    "      _, _, ir_inter, ws_inter, _ = ood(train_state, eval_rng,\n",
    "                                              inter_params, 1000)\n",
    "\n",
    "      #More Out-of-training-distribution behaviour\n",
    "      _, _, ir_inter_ood, ws_inter_ood, _= ood_other_d(train_state, eval_rng,\n",
    "                                                      inter_params)\n",
    "\n",
    "      ir_inter_list[cur_seed].append(ir_inter)\n",
    "      ws_inter_list[cur_seed].append(ws_inter)\n",
    "      ir_inter_ood_list[cur_seed].append(ir_inter_ood)\n",
    "      ws_inter_ood_list[cur_seed].append(ws_inter_ood)\n",
    "\n",
    "    # Noisy training-distribution behaviour\n",
    "    losses_noisy, losses_gd_noisy = noisy_data_ana(train_state, eval_rng,\n",
    "                                                  params_gd)\n",
    "    _, losses_gd_noisy_trained = noisy_data_ana(train_state, eval_rng,\n",
    "                                                  params_gd_trained)\n",
    "\n",
    "    losses_noisy_list[cur_seed].append(losses_noisy)\n",
    "    losses_gd_noisy_list[cur_seed].append(losses_gd_noisy)\n",
    "    losses_gd_noisy_trained_list[cur_seed].append(losses_gd_noisy_trained)\n",
    "\n",
    "    if inter:\n",
    "      _, losses_inter = noisy_data_ana(train_state, eval_rng, inter_params)\n",
    "      losses_inter_noisy_list[cur_seed].append(losses_inter)"
   ]
  },
  {
   "cell_type": "code",
   "execution_count": 57,
   "metadata": {
    "colab": {
     "base_uri": "https://localhost:8080/"
    },
    "id": "j86sBZPiO7BM",
    "outputId": "c8f409e0-fd94-4882-d2cb-056034b69fdf"
   },
   "outputs": [
    {
     "name": "stdout",
     "output_type": "stream",
     "text": [
      "Key: transformer/multi_head_attention/key, Value: {'w': Array([[-8.8052535e-01, -8.6476225e-01],\n",
      "       [-7.3217428e-03,  2.1433328e-04]], dtype=float32)}\n",
      "Key: transformer/multi_head_attention/linear, Value: {'w': Array([[-0.02918325, -0.7155595 ],\n",
      "       [ 0.05225665,  0.489131  ]], dtype=float32)}\n",
      "Key: transformer/multi_head_attention/query, Value: {'w': Array([[ 0.61401063,  0.66021067],\n",
      "       [ 0.03937263, -0.0101684 ]], dtype=float32)}\n",
      "Key: transformer/multi_head_attention/value, Value: {'w': Array([[ 0.02956208,  0.03773031],\n",
      "       [-0.8346931 ,  0.8218821 ]], dtype=float32)}\n",
      "KQ Product  [[-1.1115772e+00 -2.5875350e-02]\n",
      " [-4.3541226e-03 -2.9045565e-04]]\n",
      "LV Product  [[ 0.00110894 -0.00269837]\n",
      " [ 0.06730787  0.9992806 ]]\n"
     ]
    }
   ],
   "source": [
    "# if we already have the models saved, then we only need to run the cells starting from here\n",
    "directory = os.getcwd()\n",
    "name = 'trained_transformer_in10.pkl' if config.input_size == 10 else 'trained_transformer_in1.pkl'\n",
    "file_path = os.path.join(directory, name)\n",
    "with open(file_path, 'rb') as f:\n",
    "    loaded_params = pickle.load(f)\n",
    "for key, value in loaded_params.items():\n",
    "    print(f\"Key: {key}, Value: {value}\")\n",
    "\n",
    "# check for (Key, Query) and (Linear, Value) product alignment\n",
    "KQ = jnp.identity(config.input_size + 1)\n",
    "LV = jnp.identity(config.input_size + 1)\n",
    "for k,v in loaded_params.items():\n",
    "      #print(k, head, v['w'].shape, )\n",
    "      if \"key\" in k:\n",
    "        KQ = jnp.matmul(KQ, v['w'])\n",
    "      elif \"query\" in k:\n",
    "        KQ = jnp.matmul(KQ, v['w'].T)\n",
    "      elif \"value\" in k:\n",
    "        LV = jnp.matmul(v['w'], LV)\n",
    "      elif \"linear\" in k:\n",
    "        LV = jnp.matmul(v['w'], LV)\n",
    "\n",
    "print(\"KQ Product \", KQ)\n",
    "print(\"LV Product \", LV)"
   ]
  },
  {
   "cell_type": "code",
   "execution_count": 58,
   "metadata": {},
   "outputs": [
    {
     "name": "stdout",
     "output_type": "stream",
     "text": [
      "Key: Transformer_gd/multi_head_attention/key, Value: {'w': Array([[1., 0.],\n",
      "       [0., 1.]], dtype=float32)}\n",
      "Key: Transformer_gd/multi_head_attention/linear, Value: {'w': Array([[-6.1633700e-04,  1.4997215e-03],\n",
      "       [-3.7408944e-02, -1.1154387e+00]], dtype=float32)}\n",
      "Key: Transformer_gd/multi_head_attention/query, Value: {'w': Array([[1.0000000e+00, 1.9585337e-03],\n",
      "       [1.1639026e-02, 1.3065024e-04]], dtype=float32)}\n",
      "Key: Transformer_gd/multi_head_attention/value, Value: {'w': Array([[1., 0.],\n",
      "       [0., 1.]], dtype=float32)}\n",
      "KQ Product  [[-1.1115772e+00 -2.5875350e-02]\n",
      " [-4.3541226e-03 -2.9045565e-04]]\n",
      "LV Product  [[ 0.00110894 -0.00269837]\n",
      " [ 0.06730787  0.9992806 ]]\n"
     ]
    }
   ],
   "source": [
    "name = 'interpolated_transformer_in10.pkl' if config.input_size == 10 else 'interpolated_transformer_in1.pkl'\n",
    "file_path = os.path.join(directory, name)\n",
    "with open(file_path, 'rb') as f:\n",
    "    loaded_params_i = pickle.load(f)\n",
    "for key, value in loaded_params_i.items():\n",
    "    print(f\"Key: {key}, Value: {value}\")\n",
    "\n",
    "# check for (Key, Query) and (Linear, Value) product alignment\n",
    "KQ_i = jnp.identity(config.input_size + 1)\n",
    "LV_i = jnp.identity(config.input_size + 1)\n",
    "for k,v in loaded_params.items():\n",
    "      #print(k, head, v['w'].shape, )\n",
    "      if \"key\" in k:\n",
    "        KQ_i = jnp.matmul(KQ_i, v['w'])\n",
    "      elif \"query\" in k:\n",
    "        KQ_i = jnp.matmul(KQ_i, v['w'].T)\n",
    "      elif \"value\" in k:\n",
    "        LV_i = jnp.matmul(v['w'], LV_i)\n",
    "      elif \"linear\" in k:\n",
    "        LV_i = jnp.matmul(v['w'], LV_i)\n",
    "\n",
    "print(\"KQ Product \", KQ_i)\n",
    "print(\"LV Product \", LV_i)"
   ]
  },
  {
   "cell_type": "code",
   "execution_count": 59,
   "metadata": {
    "colab": {
     "base_uri": "https://localhost:8080/"
    },
    "id": "aOgAabREV4CI",
    "outputId": "b3720464-0fa4-4056-8774-277b1fe51b94"
   },
   "outputs": [
    {
     "name": "stdout",
     "output_type": "stream",
     "text": [
      "Key: Transformer_gd/multi_head_attention/query, Value: {'w': Array([[1., 0.],\n",
      "       [0., 0.]], dtype=float32)}\n",
      "Key: Transformer_gd/multi_head_attention/value, Value: {'w': Array([[ 0., -0.],\n",
      "       [ 0., -1.]], dtype=float32)}\n",
      "Key: Transformer_gd/multi_head_attention/key, Value: {'w': Array([[1., 0.],\n",
      "       [0., 0.]], dtype=float32)}\n",
      "Key: Transformer_gd/multi_head_attention/linear, Value: {'w': Array([[0.    , 0.    ],\n",
      "       [0.    , 1.1201]], dtype=float32)}\n",
      "KQ_c Product  [[1. 0.]\n",
      " [0. 0.]]\n",
      "LV_c Product  [[ 0.      0.    ]\n",
      " [ 0.     -1.1201]]\n"
     ]
    }
   ],
   "source": [
    "name = 'constructed_transformer_in10.pkl' if config.input_size == 10 else 'constructed_transformer_in1.pkl'\n",
    "file_path = os.path.join(directory, name)\n",
    "with open(file_path, 'rb') as f:\n",
    "    loaded_params_c = pickle.load(f)\n",
    "for key, value in loaded_params_c.items():\n",
    "    print(f\"Key: {key}, Value: {value}\")\n",
    "    \n",
    "\n",
    "KQ_c = jnp.identity(config.input_size + 1)\n",
    "LV_c = jnp.identity(config.input_size + 1)\n",
    "\n",
    "for k,v in loaded_params_c.items():\n",
    "      if \"key\" in k:\n",
    "        KQ_c = jnp.matmul(KQ_c, v['w'])\n",
    "      elif \"query\" in k:\n",
    "        KQ_c = jnp.matmul(KQ_c, v['w'].T)\n",
    "      elif \"value\" in k:\n",
    "        LV_c = jnp.matmul(v['w'], LV_c)\n",
    "      elif \"linear\" in k:\n",
    "        LV_c = jnp.matmul(v['w'], LV_c)\n",
    "\n",
    "print(\"KQ_c Product \", KQ_c)\n",
    "print(\"LV_c Product \", LV_c)"
   ]
  },
  {
   "cell_type": "code",
   "execution_count": 60,
   "metadata": {
    "colab": {
     "base_uri": "https://localhost:8080/"
    },
    "id": "aOgAabREV4CI",
    "outputId": "b3720464-0fa4-4056-8774-277b1fe51b94"
   },
   "outputs": [
    {
     "name": "stdout",
     "output_type": "stream",
     "text": [
      "Difference for KQ product [[0.11157715 0.02587535]\n",
      " [0.00435412 0.00029046]]\n",
      "Difference for LV product [[0.00110894 0.00269837]\n",
      " [0.06730787 0.12081945]]\n"
     ]
    }
   ],
   "source": [
    "difference_KQ = jnp.abs(jnp.abs(KQ_c) - jnp.abs(KQ))\n",
    "print(\"Difference for KQ product\", difference_KQ)\n",
    "difference_LV = jnp.abs(jnp.abs(LV_c) - jnp.abs(LV))\n",
    "print(\"Difference for LV product\", difference_LV)"
   ]
  },
  {
   "cell_type": "code",
   "execution_count": 61,
   "metadata": {},
   "outputs": [
    {
     "name": "stdout",
     "output_type": "stream",
     "text": [
      "Difference for KQ product [[0. 0.]\n",
      " [0. 0.]]\n",
      "Difference for LV product [[0. 0.]\n",
      " [0. 0.]]\n"
     ]
    }
   ],
   "source": [
    "# interpolated KQ and LV differences with constructed\n",
    "difference_KQ_i = jnp.abs(jnp.abs(KQ_i) - jnp.abs(KQ))\n",
    "print(\"Difference for KQ product\", difference_KQ_i)\n",
    "difference_LV_i = jnp.abs(jnp.abs(LV_i) - jnp.abs(LV))\n",
    "print(\"Difference for LV product\", difference_LV_i)"
   ]
  },
  {
   "cell_type": "markdown",
   "metadata": {},
   "source": [
    "### We see that the products of the constructed model and trained model are close to each other, and the interpolated params completed align with the constructed. This is just a sanity check before we can be sure that both models are behaving as desired. For the more rigorous checks, please run the provided visualization functions to see loss alignment and weight product alignment. One thing to note is that the KQ and LV product of the trained model is actually the negative of those of the constructed model, this is fine because when doing the actual prediction(forward pass), we still get the same result since -1 * -1 = 1. "
   ]
  },
  {
   "cell_type": "code",
   "execution_count": 62,
   "metadata": {
    "colab": {
     "base_uri": "https://localhost:8080/"
    },
    "id": "45ZjzSGE_UVG",
    "outputId": "ac1dc733-c3ee-4ee3-df55-1d8c766d59a5"
   },
   "outputs": [],
   "source": [
    "def forward_pass_model(rng_seed, data_creator, predict_test, model_params, config, constructed=False):\n",
    "    \"\"\"\n",
    "    Apply forward pass to a single Transformer model.\n",
    "\n",
    "    Parameters:\n",
    "    - seed: Random seed for reproducibility\n",
    "    - data_creator: Function to generate the test data\n",
    "    - predict_test: Function to apply the model forward pass\n",
    "    - model_params: Parameters of the model to be used\n",
    "    - config: Configuration object or dictionary with required settings\n",
    "    - constructed: Boolean flag indicating whether the model is the constructed model (default: False)\n",
    "\n",
    "    Returns:\n",
    "    - A dictionary containing predictions and loss for the model\n",
    "    \"\"\"\n",
    "    \n",
    "    # Generate test data\n",
    "    test_data = data_creator(rng_seed,\n",
    "                             config.input_size,\n",
    "                             config.dataset_size,\n",
    "                             config.size_distract,\n",
    "                             config.input_range,\n",
    "                             config.weight_scale)\n",
    "\n",
    "    seqs = test_data[0][0]  # training data\n",
    "    target = test_data[1][0]  # target token\n",
    "    w = test_data[2][0]  # coefficient\n",
    "    \n",
    "    # Validate the training data and coefficient\n",
    "    assert jnp.all(jnp.isclose(seqs[:-1, 0] * w - seqs[:-1, 1], 0, atol=1e-5))\n",
    "\n",
    "    # Forward pass with the model\n",
    "    loss_final, pred_stack, losses = predict_test.apply(model_params, rng, test_data, constructed)\n",
    "\n",
    "    # Return results in a dictionary\n",
    "    return {\n",
    "        \"packed_data\": test_data,\n",
    "        \"test_data\": seqs,\n",
    "        \"w\": w,\n",
    "        \"target\": target,\n",
    "        \"predict_stack\": pred_stack,\n",
    "        \"loss\": loss_final\n",
    "    }"
   ]
  },
  {
   "cell_type": "code",
   "execution_count": 63,
   "metadata": {},
   "outputs": [],
   "source": [
    "# Initialize random number generator\n",
    "rng = jax.random.PRNGKey(config.seed)\n",
    "rng_seed = jax.random.split(rng, num=1)"
   ]
  },
  {
   "cell_type": "code",
   "execution_count": 64,
   "metadata": {},
   "outputs": [],
   "source": [
    "results_trained = forward_pass_model(rng_seed=rng_seed,\n",
    "                                     data_creator=data_creator,\n",
    "                                     predict_test=predict_test,\n",
    "                                     model_params=loaded_params,\n",
    "                                     config=config,\n",
    "                                     constructed=False)"
   ]
  },
  {
   "cell_type": "code",
   "execution_count": 65,
   "metadata": {},
   "outputs": [],
   "source": [
    "results_constructed = forward_pass_model(rng_seed=rng_seed,\n",
    "                                         data_creator=data_creator,\n",
    "                                         predict_test=predict_test,\n",
    "                                         model_params=loaded_params_c,\n",
    "                                         config=config,\n",
    "                                         constructed=True)"
   ]
  },
  {
   "cell_type": "code",
   "execution_count": 66,
   "metadata": {},
   "outputs": [
    {
     "name": "stdout",
     "output_type": "stream",
     "text": [
      "trained w,: [-0.12286727]\n",
      "trained target,: [ 0.04275048 -0.00525263]\n",
      "trained predict_stack,: [Array([-0.00329068], dtype=float32)]\n",
      "trained loss,: 1.9246278952778084e-06\n",
      "constructed w,: [-0.12286727]\n",
      "constructed target,: [ 0.04275048 -0.00525263]\n",
      "constructed predict_stack,: [Array([-0.0032485], dtype=float32)]\n",
      "constructed loss,: 2.008268211284303e-06\n"
     ]
    }
   ],
   "source": [
    "# Access the results\n",
    "for key, value in results_trained.items():\n",
    "    if key != \"packed_data\" and key != \"test_data\":\n",
    "        print(f\"trained {key},: {value}\")\n",
    "        \n",
    "for key, value in results_constructed.items():\n",
    "    if key != \"packed_data\" and key != \"test_data\":\n",
    "        print(f\"constructed {key},: {value}\")\n"
   ]
  },
  {
   "cell_type": "code",
   "execution_count": 67,
   "metadata": {},
   "outputs": [],
   "source": [
    "def calculate_theoretical_gradient(seqs, lr, dataset_size):\n",
    "    \"\"\"\n",
    "    Calculate the theoretical gradient generated by the test data.\n",
    "\n",
    "    Parameters:\n",
    "    - seqs: 2D array representing the sequence data including the target.\n",
    "    - lr: Learning rate used during gradient descent.\n",
    "    - dataset_size: The size of the dataset, used to scale the gradient.\n",
    "\n",
    "    Returns:\n",
    "    - The theoretical update value for the weight.\n",
    "    \"\"\"\n",
    "\n",
    "    # Exclude the last row (target) from the sequence data\n",
    "    seqs_no_target = seqs[:-1, :]\n",
    "\n",
    "    # Compute the product of each row\n",
    "    negative_row_products = -jnp.prod(seqs_no_target, axis=1)\n",
    "\n",
    "    # Sum the negative products (since W is initialized to 0, and we are taking one step of GD)\n",
    "    sum_negative_products = jnp.sum(negative_row_products)\n",
    "\n",
    "    # Calculate the gradient update for W\n",
    "    d_w = - (lr / dataset_size) * sum_negative_products\n",
    "\n",
    "    # Calculate the theoretical update for the weight\n",
    "    update = d_w * seqs[-1, 0]\n",
    "\n",
    "    return update\n"
   ]
  },
  {
   "cell_type": "code",
   "execution_count": 68,
   "metadata": {
    "colab": {
     "base_uri": "https://localhost:8080/"
    },
    "id": "gVAnCCVPII1c",
    "outputId": "48adbeb9-0b13-4ccb-9417-caaba0abb17e"
   },
   "outputs": [
    {
     "name": "stdout",
     "output_type": "stream",
     "text": [
      "Theoretical update: -0.00032485046540386975 vs actual update: [Array([-0.0032485], dtype=float32)] made by constructed model\n"
     ]
    }
   ],
   "source": [
    "# calculating the theoretical gradient that's generated by our test data\n",
    "lr = 1.1201 # as found by scan_lrs during training\n",
    "update = calculate_theoretical_gradient(results_constructed[\"test_data\"], lr=1.1201, dataset_size=config.dataset_size)\n",
    "print(f\"Theoretical update: {update} vs actual update: {results_constructed['predict_stack']} made by constructed model\")"
   ]
  },
  {
   "cell_type": "code",
   "execution_count": 114,
   "metadata": {},
   "outputs": [
    {
     "name": "stdout",
     "output_type": "stream",
     "text": [
      "Gradient of the loss with respect to W: 0.0067839986\n",
      "Updated W after applying gradient descent: -0.007598757\n"
     ]
    }
   ],
   "source": [
    "import jax\n",
    "import jax.numpy as jnp\n",
    "\n",
    "# Data\n",
    "data = results_constructed[\"test_data\"][:-1, :]\n",
    "\n",
    "# Extract x and y columns\n",
    "x = data[:, 0]\n",
    "y = data[:, 1]\n",
    "\n",
    "# Initialize W (constant) and learning rate\n",
    "W = 0.0  # initial weight\n",
    "learning_rate = 1.1201\n",
    "\n",
    "# Objective: Least squared loss L = sum((Wx - y)^2)\n",
    "# We are looking for the gradient of the loss with respect to W\n",
    "def least_squares_loss(W, x, y):\n",
    "    return 1/20 * jnp.sum((W * x - y) ** 2)\n",
    "\n",
    "# Gradient of the loss with respect to W\n",
    "grad_loss_W = jax.grad(least_squares_loss)(W, x, y)\n",
    "\n",
    "# Apply gradient descent update to W\n",
    "updated_W = W - learning_rate * grad_loss_W\n",
    "\n",
    "print(\"Gradient of the loss with respect to W:\", grad_loss_W)\n",
    "print(\"Updated W after applying gradient descent:\", updated_W)\n"
   ]
  },
  {
   "cell_type": "code",
   "execution_count": 115,
   "metadata": {},
   "outputs": [
    {
     "data": {
      "text/plain": [
       "Array(-0.00032485, dtype=float32, weak_type=True)"
      ]
     },
     "execution_count": 115,
     "metadata": {},
     "output_type": "execute_result"
    }
   ],
   "source": [
    "updated_W * 0.04275048"
   ]
  },
  {
   "cell_type": "markdown",
   "metadata": {},
   "source": [
    "### We see that our hand calculated gradient is exactly the same as the one provided by the constructed model. Validation is complete: the contructed model behaves as expected, and our understanding is correct thus far. "
   ]
  },
  {
   "cell_type": "markdown",
   "metadata": {},
   "source": [
    "### Now, we move to wokring with the trained transformer (LSA). We first start by recovering W0, the meta-initialization used in the GD process that the LSA implicitly implements."
   ]
  },
  {
   "cell_type": "code",
   "execution_count": 69,
   "metadata": {},
   "outputs": [],
   "source": [
    "def calculate_w0(predicted, target, lr, dataset_size, seqs_no_target):\n",
    "    \"\"\"\n",
    "    Calculate the weight W0 based on the predicted value, target, and sequence data.\n",
    "\n",
    "    Parameters:\n",
    "    - predicted: The predicted value from the model (y_N+1).\n",
    "    - target: The target value (x_N+1).\n",
    "    - lr: Learning rate used during gradient descent.\n",
    "    - dataset_size: The size of the dataset, used to scale the gradient.\n",
    "    - seqs_no_target: The 2D array representing the sequence data excluding the target.\n",
    "\n",
    "    Returns:\n",
    "    - The calculated weight W0.\n",
    "    \"\"\"\n",
    "\n",
    "    # Scale the gradient\n",
    "    scale_grad = -lr / dataset_size\n",
    "\n",
    "    # Calculate the numerator for W0\n",
    "    numerator = predicted + scale_grad * target * jnp.sum(jnp.prod(seqs_no_target, axis=1))\n",
    "\n",
    "    # Calculate the denominator for W0\n",
    "    denominator = -target + scale_grad * target * jnp.sum(seqs_no_target[:, 0] ** 2)\n",
    "\n",
    "    # Calculate W0\n",
    "    w_0 = numerator / denominator\n",
    "\n",
    "    return w_0\n"
   ]
  },
  {
   "cell_type": "code",
   "execution_count": 85,
   "metadata": {
    "colab": {
     "base_uri": "https://localhost:8080/"
    },
    "id": "t6TzlHEveb30",
    "outputId": "5e429142-9e14-432b-c6cc-b873915d444e"
   },
   "outputs": [
    {
     "name": "stdout",
     "output_type": "stream",
     "text": [
      "w_0: [0.06533477]\n"
     ]
    }
   ],
   "source": [
    "seqs_no_target = results_trained['test_data'][:-1, :]\n",
    "w_0 = calculate_w0(results_trained['predict_stack'][0], results_trained['target'][0], 1.1201, config.dataset_size, seqs_no_target)\n",
    "print(f\"w_0: {w_0}\")"
   ]
  },
  {
   "cell_type": "code",
   "execution_count": 86,
   "metadata": {},
   "outputs": [
    {
     "name": "stdout",
     "output_type": "stream",
     "text": [
      "w_0: [0.06440563]\n"
     ]
    }
   ],
   "source": [
    "w_0_test = calculate_w0(results_constructed['predict_stack'][0], results_constructed['target'][0], 1.1201, config.dataset_size, seqs_no_target)\n",
    "print(f\"w_0: {w_0_test}\")"
   ]
  },
  {
   "cell_type": "code",
   "execution_count": 88,
   "metadata": {},
   "outputs": [],
   "source": [
    "# Let's try another way of calculating W0, using the update instead of the predicted token\n",
    "def calculate_w0_v2(delta_w, lr, dataset_size, seqs_no_target):\n",
    "    \"\"\"\n",
    "    Calculate the weight W0 based on the predicted value, target, and sequence data.\n",
    "\n",
    "    Parameters:\n",
    "    - predicted: The predicted value from the model (y_N+1).\n",
    "    - target: The target value (x_N+1).\n",
    "    - lr: Learning rate used during gradient descent.\n",
    "    - dataset_size: The size of the dataset, used to scale the gradient.\n",
    "    - seqs_no_target: The 2D array representing the sequence data excluding the target.\n",
    "\n",
    "    Returns:\n",
    "    - The calculated weight W0.\n",
    "    \"\"\"\n",
    "\n",
    "    # Scale the gradient\n",
    "    scale_grad = -dataset_size / lr\n",
    "\n",
    "    # Calculate the numerator for W0\n",
    "    numerator = scale_grad * delta_w + jnp.sum(jnp.prod(seqs_no_target, axis=1))\n",
    "\n",
    "    # Calculate the denominator for W0\n",
    "    denominator = jnp.sum(seqs_no_target[:, 0] ** 2)\n",
    "\n",
    "    # Calculate W0\n",
    "    w_0 = numerator / denominator\n",
    "\n",
    "    return w_0"
   ]
  },
  {
   "cell_type": "code",
   "execution_count": 89,
   "metadata": {},
   "outputs": [],
   "source": [
    "delta_w = - results_constructed['predict_stack'][0] / results_constructed['target'][0] ## see paper 3a(a bit below it)\n",
    "w_0_v2 = calculate_w0_v2(delta_w, 1.1201, config.dataset_size, seqs_no_target)"
   ]
  },
  {
   "cell_type": "code",
   "execution_count": 99,
   "metadata": {},
   "outputs": [
    {
     "data": {
      "text/plain": [
       "Array([ 0.00572175,  0.02107446, -0.03402321,  0.01772868, -0.05383804,\n",
       "       -0.02270447,  0.00093519, -0.05151864,  0.00259517,  0.01762813],      dtype=float32)"
      ]
     },
     "execution_count": 99,
     "metadata": {},
     "output_type": "execute_result"
    }
   ],
   "source": [
    "x = seqs_no_target[:, 0]\n",
    "y = seqs_no_target[:, 1]\n",
    "y"
   ]
  },
  {
   "cell_type": "code",
   "execution_count": 97,
   "metadata": {},
   "outputs": [
    {
     "data": {
      "text/plain": [
       "Array([-0.04656851,  0.00572175], dtype=float32)"
      ]
     },
     "execution_count": 97,
     "metadata": {},
     "output_type": "execute_result"
    }
   ],
   "source": [
    "seqs_no_target[0]"
   ]
  },
  {
   "cell_type": "code",
   "execution_count": 105,
   "metadata": {},
   "outputs": [
    {
     "data": {
      "text/plain": [
       "Array(0.07598756, dtype=float32)"
      ]
     },
     "execution_count": 105,
     "metadata": {},
     "output_type": "execute_result"
    }
   ],
   "source": [
    "delta_w_forward = -1.1201/10 * jnp.sum((w_0_v2 * seqs_no_target[:, 0] - seqs_no_target[:, 1])*seqs_no_target[:, 0])\n",
    "delta_w_forward"
   ]
  },
  {
   "cell_type": "code",
   "execution_count": 106,
   "metadata": {},
   "outputs": [
    {
     "data": {
      "text/plain": [
       "Array(-0.0032485, dtype=float32)"
      ]
     },
     "execution_count": 106,
     "metadata": {},
     "output_type": "execute_result"
    }
   ],
   "source": [
    " - delta_w_forward * results_constructed['target'][0]"
   ]
  },
  {
   "cell_type": "code",
   "execution_count": 104,
   "metadata": {},
   "outputs": [
    {
     "data": {
      "text/plain": [
       "Array(-0.00759876, dtype=float32)"
      ]
     },
     "execution_count": 104,
     "metadata": {},
     "output_type": "execute_result"
    }
   ],
   "source": [
    "delta_w_w0is0 = -1.1201/10 * jnp.sum(-y*x)\n",
    "delta_w_w0is0"
   ]
  },
  {
   "cell_type": "markdown",
   "metadata": {},
   "source": [
    "#### We see that we do get a result for W0 without error, but we don't know if this result actually makes sense. Now, let's try to compute W0 for multiple batches of data. Since W0 is the meta-initialization implicitly calculated by the LSA weights, meaning it adapts to the testing data (ICL data) that is passed to the model, we expect it to not stay constant for different batches of data."
   ]
  },
  {
   "cell_type": "code",
   "execution_count": 27,
   "metadata": {},
   "outputs": [],
   "source": [
    "def w0_pipeline(rng, data_creator, loaded_params_t, config, num_batches = 10):\n",
    "    rng_seed = jax.random.split(rng, num=num_batches)\n",
    "    w0_results = []\n",
    "    \n",
    "    for seed in rng_seed:\n",
    "        current_seed = jax.random.split(seed, num = 1)\n",
    "        results_trained = forward_pass_model(rng_seed=current_seed,\n",
    "                                     data_creator=data_creator,\n",
    "                                     predict_test=predict_test,\n",
    "                                     model_params=loaded_params,\n",
    "                                     config=config,\n",
    "                                     constructed=False)\n",
    "        \n",
    "        predicted=results_trained['predict_stack'][0]\n",
    "        target=results_trained['target'][0]\n",
    "        seqs_no_target = results_trained['test_data'][-1:, :]\n",
    "        w_0 = calculate_w0(predicted=predicted, target=target, lr=1.1201, dataset_size=config.dataset_size, seqs_no_target= seqs_no_target)\n",
    "        w0_results.append(w_0)\n",
    "    \n",
    "    return w0_results       "
   ]
  },
  {
   "cell_type": "code",
   "execution_count": 28,
   "metadata": {},
   "outputs": [
    {
     "name": "stdout",
     "output_type": "stream",
     "text": [
      "[-0.5075585]\n",
      "[1.2423413]\n",
      "[0.48075297]\n",
      "[-1.5028287]\n",
      "[-1.1417327]\n",
      "[0.08881883]\n",
      "[1.7493498]\n",
      "[1.0700157]\n",
      "[0.27644885]\n",
      "[0.05160756]\n"
     ]
    }
   ],
   "source": [
    "rng = jax.random.PRNGKey(config.seed)\n",
    "w_0s = w0_pipeline(rng, data_creator,loaded_params, config)\n",
    "for w_0 in w_0s:\n",
    "    print(w_0)"
   ]
  },
  {
   "cell_type": "markdown",
   "metadata": {},
   "source": [
    "#### Indeed, W0 is not constant, but this is not enough to ensure the full validity of W0. Thus, we move on to our next check."
   ]
  },
  {
   "cell_type": "markdown",
   "metadata": {},
   "source": [
    "### Lost a lot of progress here due to save conflict. But whatever, let's do it again, maybe it'll help clear my thoughts up. Now, let's attempt to verify W0 by cross referencing the updates made to all test tokens, validating these calculated updates with the prediction."
   ]
  },
  {
   "cell_type": "code",
   "execution_count": 29,
   "metadata": {},
   "outputs": [],
   "source": [
    "# useful variables we'll need\n",
    "# data stuff\n",
    "packed_data = results_trained['packed_data'][0] # need this because forward pass needs data to be packed\n",
    "seqs = results_trained['test_data']\n",
    "seqs_no_target = results_trained['test_data'][-1:, :]\n",
    "\n",
    "# LSA weights, in jnp.ndarray form, so can be directly pass to MHA\n",
    "K = loaded_params[\"transformer/multi_head_attention/key\"]['w']\n",
    "Q = loaded_params[\"transformer/multi_head_attention/query\"]['w']\n",
    "V = loaded_params[\"transformer/multi_head_attention/value\"]['w']\n",
    "P = loaded_params[\"transformer/multi_head_attention/linear\"]['w']\n",
    "\n",
    "# hyperpameters\n",
    "N = config.dataset_size\n",
    "lr = 1.1201\n",
    "\n",
    "# results that we will compare with\n",
    "predicted = results_trained['predict_stack']"
   ]
  },
  {
   "cell_type": "code",
   "execution_count": 30,
   "metadata": {},
   "outputs": [],
   "source": [
    "import haiku as hk\n",
    "@hk.transform\n",
    "def predict_all_tkns(data: jnp.ndarray) -> Tuple[jnp.ndarray]:\n",
    "    preds, pred_stack, _ = forward(data, False, False, True)\n",
    "    return preds, pred_stack"
   ]
  },
  {
   "cell_type": "code",
   "execution_count": 31,
   "metadata": {},
   "outputs": [],
   "source": [
    "preds, pred_stack = predict_all_tkns.apply(loaded_params, rng, packed_data)"
   ]
  },
  {
   "cell_type": "code",
   "execution_count": 32,
   "metadata": {},
   "outputs": [],
   "source": [
    "# confirming that the updates were done correctly by cross referencing the test token\n",
    "assert abs(preds[0, -1, -1]) - abs(predicted[0]) < 0.000001"
   ]
  },
  {
   "cell_type": "code",
   "execution_count": 33,
   "metadata": {},
   "outputs": [
    {
     "name": "stdout",
     "output_type": "stream",
     "text": [
      "[-0.0467725   0.00214742]\n",
      "[-0.17227347  0.00790941]\n",
      "[ 0.27812326 -0.01276918]\n",
      "[-0.14492333  0.00665371]\n",
      "[ 0.44009984 -0.02020584]\n",
      "[ 0.18559803 -0.00852117]\n",
      "[-0.00764473  0.00035098]\n",
      "[ 0.42113987 -0.01933535]\n",
      "[-0.02121426  0.00097399]\n",
      "[-0.14410138  0.00661597]\n",
      "[0.04293828 0.00329068]\n"
     ]
    }
   ],
   "source": [
    "preds_unpacked = preds[0]\n",
    "w_0_lst = []\n",
    "for updated_token in preds_unpacked:\n",
    "    print(updated_token)\n",
    "    w_0 = calculate_w0(updated_token[1], updated_token[0], 1.1201, config.dataset_size, seqs_no_target)\n",
    "    w_0_lst.append(w_0)"
   ]
  },
  {
   "cell_type": "code",
   "execution_count": 35,
   "metadata": {},
   "outputs": [
    {
     "data": {
      "text/plain": [
       "[Array(0.04590254, dtype=float32),\n",
       " Array(0.04590254, dtype=float32),\n",
       " Array(0.04590255, dtype=float32),\n",
       " Array(0.04590254, dtype=float32),\n",
       " Array(0.04590256, dtype=float32),\n",
       " Array(0.04590254, dtype=float32),\n",
       " Array(0.04590255, dtype=float32),\n",
       " Array(0.04590254, dtype=float32),\n",
       " Array(0.04590254, dtype=float32),\n",
       " Array(0.04590255, dtype=float32),\n",
       " Array(-0.07662182, dtype=float32)]"
      ]
     },
     "execution_count": 35,
     "metadata": {},
     "output_type": "execute_result"
    }
   ],
   "source": [
    "w_0_lst"
   ]
  },
  {
   "cell_type": "code",
   "execution_count": 57,
   "metadata": {},
   "outputs": [
    {
     "data": {
      "text/plain": [
       "Array([[[-4.6772499e-02,  2.1474159e-03],\n",
       "        [-1.7227347e-01,  7.9094097e-03],\n",
       "        [ 2.7812326e-01, -1.2769181e-02],\n",
       "        [-1.4492333e-01,  6.6537103e-03],\n",
       "        [ 4.4009984e-01, -2.0205844e-02],\n",
       "        [ 1.8559803e-01, -8.5211657e-03],\n",
       "        [-7.6447348e-03,  3.5098463e-04],\n",
       "        [ 4.2113987e-01, -1.9335348e-02],\n",
       "        [-2.1214262e-02,  9.7398786e-04],\n",
       "        [-1.4410138e-01,  6.6159749e-03],\n",
       "        [ 4.2938277e-02,  3.2906826e-03]]], dtype=float32)"
      ]
     },
     "execution_count": 57,
     "metadata": {},
     "output_type": "execute_result"
    }
   ],
   "source": [
    "# now we use the other udpated token values to cross reference W0\n"
   ]
  },
  {
   "cell_type": "code",
   "execution_count": 54,
   "metadata": {},
   "outputs": [
    {
     "data": {
      "text/plain": [
       "[Array([-0.00329068], dtype=float32)]"
      ]
     },
     "execution_count": 54,
     "metadata": {},
     "output_type": "execute_result"
    }
   ],
   "source": [
    "predicted"
   ]
  },
  {
   "cell_type": "code",
   "execution_count": 46,
   "metadata": {},
   "outputs": [
    {
     "data": {
      "text/plain": [
       "Array([[-0.04656851,  0.00572175],\n",
       "       [-0.17152214,  0.02107446],\n",
       "       [ 0.2769103 , -0.03402321],\n",
       "       [-0.14429128,  0.01772868],\n",
       "       [ 0.43818045, -0.05383804],\n",
       "       [ 0.18478858, -0.02270447],\n",
       "       [-0.00761139,  0.00093519],\n",
       "       [ 0.41930318, -0.05151864],\n",
       "       [-0.02112174,  0.00259517],\n",
       "       [-0.14347291,  0.01762813],\n",
       "       [ 0.04275048, -0.        ]], dtype=float32)"
      ]
     },
     "execution_count": 46,
     "metadata": {},
     "output_type": "execute_result"
    }
   ],
   "source": [
    "seqs"
   ]
  },
  {
   "cell_type": "code",
   "execution_count": null,
   "metadata": {},
   "outputs": [],
   "source": [
    "from src.attn import (MLP,\n",
    "                      MultiHeadAttention,\n",
    "                      TokenVocab,\n",
    "                      create_pos_encoding,\n",
    "                      LNorm,\n",
    "                      layer_norm)"
   ]
  },
  {
   "cell_type": "code",
   "execution_count": 135,
   "metadata": {},
   "outputs": [
    {
     "data": {
      "text/plain": [
       "(1, 11, 2)"
      ]
     },
     "execution_count": 135,
     "metadata": {},
     "output_type": "execute_result"
    }
   ],
   "source": [
    "packed_data.shape"
   ]
  },
  {
   "cell_type": "markdown",
   "metadata": {},
   "source": [
    "#### first, let's use (6) in the paper to calculate all the updated test tokens: we try to use the multihead attention mechanism provided to get these updates. "
   ]
  },
  {
   "cell_type": "code",
   "execution_count": 133,
   "metadata": {},
   "outputs": [
    {
     "ename": "ValueError",
     "evalue": "All `hk.Module`s must be initialized inside an `hk.transform`.",
     "output_type": "error",
     "traceback": [
      "\u001b[0;31m---------------------------------------------------------------------------\u001b[0m",
      "\u001b[0;31mValueError\u001b[0m                                Traceback (most recent call last)",
      "Cell \u001b[0;32mIn[133], line 10\u001b[0m\n\u001b[1;32m      7\u001b[0m \u001b[38;5;28;01melif\u001b[39;00m \u001b[38;5;28mlen\u001b[39m(h\u001b[38;5;241m.\u001b[39mshape) \u001b[38;5;241m==\u001b[39m \u001b[38;5;241m3\u001b[39m:\n\u001b[1;32m      8\u001b[0m     _, _, model_size \u001b[38;5;241m=\u001b[39m h\u001b[38;5;241m.\u001b[39mshape\n\u001b[0;32m---> 10\u001b[0m attn_block \u001b[38;5;241m=\u001b[39m MultiHeadAttention(num_heads\u001b[38;5;241m=\u001b[39mconfig\u001b[38;5;241m.\u001b[39mnum_heads,\n\u001b[1;32m     11\u001b[0m                                key_size\u001b[38;5;241m=\u001b[39mconfig\u001b[38;5;241m.\u001b[39mkey_size,\n\u001b[1;32m     12\u001b[0m                                model_size\u001b[38;5;241m=\u001b[39mmodel_size,\n\u001b[1;32m     13\u001b[0m                                use_softmax\u001b[38;5;241m=\u001b[39mconfig\u001b[38;5;241m.\u001b[39muse_softmax,\n\u001b[1;32m     14\u001b[0m                                use_non_lin_mix\u001b[38;5;241m=\u001b[39mconfig\u001b[38;5;241m.\u001b[39muse_non_lin_mix,\n\u001b[1;32m     15\u001b[0m                                use_bias_p\u001b[38;5;241m=\u001b[39mconfig\u001b[38;5;241m.\u001b[39muse_bias,\n\u001b[1;32m     16\u001b[0m                                sum_normalization\u001b[38;5;241m=\u001b[39mconfig\u001b[38;5;241m.\u001b[39msum_norm\n\u001b[1;32m     17\u001b[0m                                )\n",
      "File \u001b[0;32m/opt/anaconda3/lib/python3.11/site-packages/haiku/_src/module.py:151\u001b[0m, in \u001b[0;36mModuleMetaclass.__call__\u001b[0;34m(cls, *args, **kwargs)\u001b[0m\n\u001b[1;32m    149\u001b[0m \u001b[38;5;66;03m# Now attempt to initialize the object.\u001b[39;00m\n\u001b[1;32m    150\u001b[0m init \u001b[38;5;241m=\u001b[39m wrap_method(\u001b[38;5;124m\"\u001b[39m\u001b[38;5;124m__init__\u001b[39m\u001b[38;5;124m\"\u001b[39m, \u001b[38;5;28mcls\u001b[39m\u001b[38;5;241m.\u001b[39m\u001b[38;5;21m__init__\u001b[39m, \u001b[38;5;28;01mlambda\u001b[39;00m: \u001b[38;5;28mcls\u001b[39m)\n\u001b[0;32m--> 151\u001b[0m init(module, \u001b[38;5;241m*\u001b[39margs, \u001b[38;5;241m*\u001b[39m\u001b[38;5;241m*\u001b[39mkwargs)\n\u001b[1;32m    153\u001b[0m ran_super_ctor \u001b[38;5;241m=\u001b[39m \u001b[38;5;28mhasattr\u001b[39m(module, \u001b[38;5;124m\"\u001b[39m\u001b[38;5;124mmodule_name\u001b[39m\u001b[38;5;124m\"\u001b[39m)\n\u001b[1;32m    154\u001b[0m \u001b[38;5;28;01mif\u001b[39;00m \u001b[38;5;129;01mnot\u001b[39;00m ran_super_ctor:\n",
      "File \u001b[0;32m/opt/anaconda3/lib/python3.11/site-packages/haiku/_src/module.py:439\u001b[0m, in \u001b[0;36mwrap_method.<locals>.wrapped\u001b[0;34m(self, *args, **kwargs)\u001b[0m\n\u001b[1;32m    437\u001b[0m \u001b[38;5;250m\u001b[39m\u001b[38;5;124;03m\"\"\"Calls the original method with a group name set before and after.\"\"\"\u001b[39;00m\n\u001b[1;32m    438\u001b[0m \u001b[38;5;28;01mif\u001b[39;00m \u001b[38;5;129;01mnot\u001b[39;00m base\u001b[38;5;241m.\u001b[39mframe_stack:\n\u001b[0;32m--> 439\u001b[0m   \u001b[38;5;28;01mraise\u001b[39;00m \u001b[38;5;167;01mValueError\u001b[39;00m(\n\u001b[1;32m    440\u001b[0m       \u001b[38;5;124m\"\u001b[39m\u001b[38;5;124mAll `hk.Module`s must be initialized inside an `hk.transform`.\u001b[39m\u001b[38;5;124m\"\u001b[39m)\n\u001b[1;32m    442\u001b[0m \u001b[38;5;66;03m# Submodules are associated with this method. We allow users to associate\u001b[39;00m\n\u001b[1;32m    443\u001b[0m \u001b[38;5;66;03m# submodules with a different method than the one being called via\u001b[39;00m\n\u001b[1;32m    444\u001b[0m \u001b[38;5;66;03m# `@name_like(\"other_method\")`. Interceptors and custom getters are still\u001b[39;00m\n\u001b[1;32m    445\u001b[0m \u001b[38;5;66;03m# provided the actual method name (e.g. \"submodule_method_name\" is only used\u001b[39;00m\n\u001b[1;32m    446\u001b[0m \u001b[38;5;66;03m# for naming submodules).\u001b[39;00m\n\u001b[1;32m    447\u001b[0m submodule_method_name \u001b[38;5;241m=\u001b[39m \u001b[38;5;28mgetattr\u001b[39m(unbound_method, _CUSTOM_NAME, method_name)\n",
      "\u001b[0;31mValueError\u001b[0m: All `hk.Module`s must be initialized inside an `hk.transform`."
     ]
    }
   ],
   "source": [
    "h = packed_data\n",
    "if not config.include_query: # should be triggered\n",
    "    key = h[:, :-1, :]\n",
    "    value = h[:, :-1, :]\n",
    "if len(h.shape) == 2:\n",
    "    _, model_size = h.shape\n",
    "elif len(h.shape) == 3:\n",
    "    _, _, model_size = h.shape\n",
    "\n",
    "attn_block = MultiHeadAttention(num_heads=config.num_heads,\n",
    "                               key_size=config.key_size,\n",
    "                               model_size=model_size,\n",
    "                               use_softmax=config.use_softmax,\n",
    "                               use_non_lin_mix=config.use_non_lin_mix,\n",
    "                               use_bias_p=config.use_bias,\n",
    "                               sum_normalization=config.sum_norm\n",
    "                               )\n"
   ]
  },
  {
   "cell_type": "code",
   "execution_count": 130,
   "metadata": {},
   "outputs": [
    {
     "data": {
      "text/plain": [
       "2"
      ]
     },
     "execution_count": 130,
     "metadata": {},
     "output_type": "execute_result"
    }
   ],
   "source": [
    "h_attn, att_map =self.attn_block(h_norm,key,value)"
   ]
  },
  {
   "cell_type": "code",
   "execution_count": 28,
   "metadata": {
    "id": "UnsA9AgSlTto"
   },
   "outputs": [
    {
     "data": {
      "text/plain": [
       "'\\nnow, how is this w_0 hidden in the parameters of the trained model? \\nif we can find out this relation, we can recover the orginal model.\\nI think the starting point should be fully unravelling out the attention calculation,\\nand use that to see which products constitude w_0, and this will\\ngive us a constraint for the paramters.\\nThe other constraints we have are the approximate products of KQ and LV;\\nthough, this could turn out to be the same constraint as the one provided by w_0.\\n'"
      ]
     },
     "execution_count": 28,
     "metadata": {},
     "output_type": "execute_result"
    }
   ],
   "source": [
    "'''\n",
    "now, how is this w_0 hidden in the parameters of the trained model? \n",
    "if we can find out this relation, we can recover the orginal model.\n",
    "I think the starting point should be fully unravelling out the attention calculation,\n",
    "and use that to see which products constitude w_0, and this will\n",
    "give us a constraint for the paramters.\n",
    "The other constraints we have are the approximate products of KQ and LV;\n",
    "though, this could turn out to be the same constraint as the one provided by w_0.\n",
    "'''"
   ]
  },
  {
   "cell_type": "code",
   "execution_count": 30,
   "metadata": {},
   "outputs": [
    {
     "data": {
      "text/plain": [
       "Array(0.01999988, dtype=float32)"
      ]
     },
     "execution_count": 30,
     "metadata": {},
     "output_type": "execute_result"
    }
   ],
   "source": [
    "# check condition 1.2\n",
    "PV_r2c1 = jnp.dot(P[1], V[:][0])\n",
    "PV_r2c1"
   ]
  },
  {
   "cell_type": "code",
   "execution_count": 31,
   "metadata": {},
   "outputs": [
    {
     "data": {
      "text/plain": [
       "Array(-0.00435412, dtype=float32)"
      ]
     },
     "execution_count": 31,
     "metadata": {},
     "output_type": "execute_result"
    }
   ],
   "source": [
    "# check condition 1.3\n",
    "KQ_r2c1 = jnp.dot(K[1], Q[:][0])\n",
    "KQ_r2c1"
   ]
  },
  {
   "cell_type": "code",
   "execution_count": 32,
   "metadata": {},
   "outputs": [
    {
     "data": {
      "text/plain": [
       "Array(21.770746, dtype=float32)"
      ]
     },
     "execution_count": 32,
     "metadata": {},
     "output_type": "execute_result"
    }
   ],
   "source": [
    "# \n",
    "relative_magnitude = abs(KQ_r2c1)/abs(PV_r2c1) * 100\n",
    "relative_magnitude"
   ]
  },
  {
   "cell_type": "markdown",
   "metadata": {},
   "source": [
    "We see that the magnitude of KQ_r2c1 is not insignificant compared to that of PV_r2c1, so condition 1.2 and 1.3 do not totally stand, need to dig further. "
   ]
  },
  {
   "cell_type": "code",
   "execution_count": 33,
   "metadata": {},
   "outputs": [
    {
     "data": {
      "text/plain": [
       "Array(-8.708191e-05, dtype=float32)"
      ]
     },
     "execution_count": 33,
     "metadata": {},
     "output_type": "execute_result"
    }
   ],
   "source": [
    "# check condition 1.1\n",
    "shoud_be_zero = PV_r2c1 * KQ_r2c1\n",
    "shoud_be_zero"
   ]
  },
  {
   "cell_type": "code",
   "execution_count": 34,
   "metadata": {},
   "outputs": [],
   "source": [
    "def calculate_trained_transformer_update(seqs, lr, dataset_size, W_0):\n",
    "    \"\"\"\n",
    "    Calculate the theoretical gradient generated by the test data.\n",
    "\n",
    "    Parameters:\n",
    "    - seqs: 2D array representing the sequence data including the target.\n",
    "    - lr: Learning rate used during gradient descent.\n",
    "    - dataset_size: The size of the dataset, used to scale the gradient.\n",
    "\n",
    "    Returns:\n",
    "    - The theoretical update value for the weight.\n",
    "    \"\"\"\n",
    "\n",
    "    # Exclude the last row (target) from the sequence data\n",
    "    seqs_no_target = seqs[:-1, :]\n",
    "\n",
    "    # Compute the product of each row\n",
    "    negative_row_products = -jnp.prod(seqs_no_target, axis=1)\n",
    "    \n",
    "\n",
    "    x_data = seqs_no_target[:, 0]\n",
    "    x_squared = x_data ** 2\n",
    "    first_summand = W_0 * x_squared\n",
    "\n",
    "    # Sum the negative products (since W is initialized to 0, and we are taking one step of GD)\n",
    "    sum_negative_products = jnp.sum(negative_row_products)\n",
    "    \n",
    "    # Sum the first summands, since W_0 is not 0\n",
    "    sum_first_summand = jnp.sum(first_summand)\n",
    "    \n",
    "    # Calculate the gradient update for W\n",
    "    d_w = - (lr / dataset_size) * (sum_negative_products + sum_first_summand)\n",
    "\n",
    "    # Calculate the theoretical update for the weight\n",
    "    update = d_w * seqs[-1, 0]\n",
    "\n",
    "    return update"
   ]
  },
  {
   "cell_type": "code",
   "execution_count": 46,
   "metadata": {},
   "outputs": [
    {
     "name": "stdout",
     "output_type": "stream",
     "text": [
      "true_trained_update: -0.005496930330991745 vs. calculated trained update: -0.00046129641123116016\n"
     ]
    }
   ],
   "source": [
    "trained_transformer_update = calculate_trained_transformer_update(results_trained[\"test_data\"], \n",
    "                                                            lr=1.1201, dataset_size=config.dataset_size, W_0 = w_0) \n",
    "true_trained_update = results_trained['predicted'][1] - results_trained['target'][0] * w_0\n",
    "print(f\"true_trained_update: {true_trained_update} vs. calculated trained update: {trained_transformer_update}\")"
   ]
  },
  {
   "cell_type": "code",
   "execution_count": 39,
   "metadata": {},
   "outputs": [
    {
     "data": {
      "text/plain": [
       "Array([-0.00329068], dtype=float32)"
      ]
     },
     "execution_count": 39,
     "metadata": {},
     "output_type": "execute_result"
    }
   ],
   "source": [
    "results_trained['predicted']"
   ]
  },
  {
   "cell_type": "code",
   "execution_count": 40,
   "metadata": {},
   "outputs": [
    {
     "data": {
      "text/plain": [
       "Array([ 0.04275048, -0.00525263], dtype=float32)"
      ]
     },
     "execution_count": 40,
     "metadata": {},
     "output_type": "execute_result"
    }
   ],
   "source": [
    "results_trained['target']"
   ]
  },
  {
   "cell_type": "markdown",
   "metadata": {},
   "source": [
    "### Different visualizations to show that the two models do in fact align, thus the trained model is doing gradient descent in its forward pass"
   ]
  },
  {
   "cell_type": "code",
   "execution_count": 21,
   "metadata": {
    "cellView": "form",
    "colab": {
     "base_uri": "https://localhost:8080/",
     "height": 717
    },
    "id": "tWjKF2SgrbTO",
    "outputId": "ec9ed209-b34a-4000-b7a6-95766c6472a9"
   },
   "outputs": [
    {
     "data": {
      "image/jpeg": "[encoded data removed]",
      "text/plain": [
       "<IPython.core.display.Image object>"
      ]
     },
     "metadata": {},
     "output_type": "display_data"
    },
    {
     "data": {
      "image/jpeg": "[encoded data removed]",
      "text/plain": [
       "<IPython.core.display.Image object>"
      ]
     },
     "metadata": {},
     "output_type": "display_data"
    }
   ],
   "source": [
    "#@title Visualize loss and alignment measures (the printing layout is set to default and might be suboptimal)\n",
    "\n",
    "cosine_low = 0.0\n",
    "if config.num_layers == 1:\n",
    "  display_learning(loss_trans_list, test=[losses_gd_list[0]], y_lim_u=0.4, y_lim_l=-0.1,\n",
    "                  rw=1, title=\"train.pdf\", allow_download=False,\n",
    "                  single_seeds = True, label_title =\"Loss\",\n",
    "                  title2='GD', title1='Trained TF',\n",
    "                  title3='GD',  loc_first='upper right',\n",
    "                  num_iter_os=len(loss_trans_list[0])*100)\n",
    "\n",
    "  display_learning(cos_sim_list, grad_norm_list, p_norm_list,\n",
    "                  title1=\"Model cos\",\n",
    "                  title2=\"Model diff\", y_lim_u=2,\n",
    "                  title3=\"Preds diff\", second_axis=True, color_add=0.2,\n",
    "                  y_lim_u2=1.19, loc_sec='center right', single_seeds = False,\n",
    "                  y_lim_l2=cosine_low, color_axis=False, width= 5, y_label2 = 'Cosine sim',\n",
    "                  rw=1, num_iter_os=len(grad_norm_list[0])*100, title=\"sim.pdf\",\n",
    "                  allow_download=False)\n",
    "else:\n",
    "  display_learning(loss_trans_list, gt=losses_gd_list_trained,\n",
    "                   test=[losses_gd_list[0]], y_lim_u=0.3, y_lim_l=0.0,\n",
    "                   rw=1, title=\"train.pdf\", allow_download=False,\n",
    "                   title2='GD', title1='Trained TF',\n",
    "                   title3='GD$^{++}$',loc_first='upper right', x_label = \"Training steps\",\n",
    "                   single_seeds = True, plot_title = None,\n",
    "                   num_iter_os=len(loss_trans_list[0])*100)\n",
    "\n",
    "  display_learning(cos_sim_list, grad_norm_list, p_norm_list, title1=\"Model cos\",\n",
    "                  title2=\"Model diff\", y_lim_u=1.8,\n",
    "                  title3=\"Preds diff\", second_axis=True, color_add=0.2,\n",
    "                  y_lim_u2=1.09999999, color_axis=False,  width= 4, x_label = \"Training steps\",\n",
    "                  plot_title=\"GD vs trained TF\",\n",
    "                  y_lim_l2=0.5, loc_sec = 'center right', y_label1 = 'L2 Norm', y_label2 = 'Cosine sim',\n",
    "                  rw=1, num_iter_os=len(loss_trans_list[0])*100, title=\"sim.pdf\",\n",
    "                  allow_download=False, plot_num=1)\n",
    "\n",
    "  display_learning(cos_sim_list_o, grad_norm_list_o, p_norm_list_o, title1=\"Model cos\",\n",
    "                  title2=\"Model diff\", y_lim_u=1.8, x_label = \"Training steps\", plot_title = \"GD$^{++}$ vs trained TF\" ,\n",
    "                  title3=\"Preds diff\", second_axis=True, color_add=0.2,\n",
    "                  y_lim_u2=1.0599999, color_axis=False, width= 4, y_label1 = 'L2 Norm', y_label2 = 'Cosine sim',\n",
    "                  y_lim_l2=0.5, loc_sec = 'center right',\n",
    "                  rw=1, num_iter_os=len(loss_trans_list[0])*100, title=\"sim2.pdf\",\n",
    "                  allow_download=False)"
   ]
  },
  {
   "cell_type": "code",
   "execution_count": 22,
   "metadata": {
    "cellView": "form",
    "colab": {
     "base_uri": "https://localhost:8080/",
     "height": 267
    },
    "id": "Pxg3ohU9a7Re",
    "outputId": "0d870244-64fc-4225-8b2d-ab72fedaee72"
   },
   "outputs": [
    {
     "data": {
      "image/jpeg": "[encoded data removed]",
      "text/plain": [
       "<IPython.core.display.Image object>"
      ]
     },
     "metadata": {},
     "output_type": "display_data"
    }
   ],
   "source": [
    "#@title Visualize iteratively applying a single layer Transformer layer\n",
    "if config.gd_deq and config.num_heads == 1 and config.num_layers == 1:\n",
    "  scale = 0.75\n",
    "\n",
    "  train_state_final = train_state\n",
    "  losses_gd, losses_tr, x_range = [], [], []\n",
    "\n",
    "  orig_damp = config.dampening\n",
    "  config.dampening = scale\n",
    "  orig_num_layers = config.num_layers\n",
    "  config.num_layers = 50\n",
    "\n",
    "  config.y_update = True\n",
    "  params_gd = create_weights(config.input_size, 1, config.dataset_size, lr_min*scale,\n",
    "                                jax.random.normal(data_rng, shape=[1, 1, config.input_size])*0,\n",
    "                              lin_diag=False,\n",
    "                              gd_deq=config.gd_deq, num_layers=config.num_layers)\n",
    "  x_range = np.arange(1, config.num_layers)\n",
    "\n",
    "  _, int_params = interpolate_weights(train_state, params_gd)\n",
    "\n",
    "  _, _, _, rng = init()\n",
    "  _, _, losses_gd = predict_test.apply(params_gd, eval_rng, eval_data, True)\n",
    "  _, _, losses_gd_train = predict_test.apply(params_gd_trained, eval_rng, eval_data, True)\n",
    "  _, _, losses_tr = predict_test.apply(train_state.params, eval_rng, eval_data, False)\n",
    "  _, _, losses_int = predict_test.apply(int_params, eval_rng, eval_data, True)\n",
    "  config.num_layers = orig_num_layers\n",
    "  config.orig_damp = orig_damp\n",
    "  config.y_update = False\n",
    "  train_state = train_state_final\n",
    "\n",
    "if config.gd_deq and config.deq and config.num_heads == 1:\n",
    "  if orig_num_layers > 1:\n",
    "      display_learning([losses_tr], gt=[losses_gd_train], test=[losses_gd],\n",
    "                      y_lim_u=10, y_lim_l=0.0,\n",
    "                    rw=1, title=\"extra_gd_steps.pdf\", allow_download=False,\n",
    "                    title3='GD$^{++}$',\n",
    "                    title2='GD', title1='Trained TF',\n",
    "                    line=\"*\", height = 2.5, loc_first='lower right',\n",
    "                    x_label = 'Gradient steps / TF  steps',\n",
    "                    num_iter_os=len(losses_tr))\n",
    "  else:\n",
    "      each = 3\n",
    "      display_learning([losses_tr[0::each]], test=[losses_gd[0::each]], y_lim_u=0.27, y_lim_l=0.00,\n",
    "                  rw=1, title=\"extra_gd_steps.pdf\", allow_download=False,\n",
    "                  #plot_title=\"Dampening $\\lambda =$\" +str(scale),\n",
    "                  title3='GD$^{++}$' if config.pre_train_gd else 'GD',\n",
    "                  title2='Gradient descent', title1='Trained Transformer',\n",
    "                  line=\"+\", height = 2.5, loc_first='upper right',\n",
    "                  x_label = 'GD Steps / Transformer Layers',\n",
    "                  num_iter_os=len(losses_tr[0::each])*each)\n"
   ]
  },
  {
   "cell_type": "code",
   "execution_count": 23,
   "metadata": {
    "cellView": "form",
    "colab": {
     "base_uri": "https://localhost:8080/",
     "height": 351
    },
    "id": "C_XuqAMIVgCJ",
    "outputId": "bb3c1b97-3285-4b45-9474-5f737633eeef"
   },
   "outputs": [
    {
     "data": {
      "image/png": "[encoded data removed]",
      "text/plain": [
       "<Figure size 400x350 with 1 Axes>"
      ]
     },
     "metadata": {},
     "output_type": "display_data"
    }
   ],
   "source": [
    "#@title Visualize Transformer performance on larger inputs (comment out for other OOD)\n",
    "\n",
    "#@title Config\n",
    "Test_on_larger_inputs = True #@param {type:\"boolean\"}\n",
    "Test_on_larger_targets = False #@param {type:\"boolean\"}\n",
    "same_distribution = True #@param {type:\"boolean\"}\n",
    "\n",
    "assert Test_on_larger_inputs or Test_on_larger_targets\n",
    "\n",
    "log = True\n",
    "every = 5\n",
    "l_bound, u_bound = 0.06, 10\n",
    "leg_loc = 'upper left'\n",
    "\n",
    "if Test_on_larger_inputs:\n",
    "\n",
    "  if same_distribution:\n",
    "    title = r'Test on larger inputs'\n",
    "\n",
    "    x_axis = r'$\\alpha$   where x $\\sim$ U($-\\alpha, \\alpha$)'\n",
    "    download = 'Input scale'\n",
    "    data = [ir_gd_list, ir_gd_trained_list, ir_t_list, ir_inter_list, np.arange(0.5, 2+0.03, 0.03)]\n",
    "    training_x = np.ones([100])\n",
    "    step = np.max(np.array(data[:1]))/100.\n",
    "    training_y = np.arange(0, np.max(np.array(data[:1])) - step, step)\n",
    "  else:\n",
    "\n",
    "    leg_loc = 'upper left'\n",
    "    x_axis = r'$\\alpha$   where $\\alpha x$'\n",
    "    l_bound, u_bound = 0.008, 10\n",
    "    every = 5\n",
    "    data = [ir_gd_ood_list, ir_gd_ood_trained_list, ir_t_ood_list, ir_inter_ood_list, np.arange(0.5, 5+0.05, 0.05)]\n",
    "    training_x = np.ones([100])\n",
    "    step = np.max(np.array(data[:1]))/100.\n",
    "    training_y = np.arange(0, np.max(np.array(data[:1])) - step, step)\n",
    "\n",
    "if Test_on_larger_targets:\n",
    "  title = r'Test on larger targets'\n",
    "\n",
    "  if same_distribution:\n",
    "    x_axis = r'$\\alpha W$   where W $\\sim$ N(0, I)'\n",
    "    download = 'Weight scale'\n",
    "    leg_loc = 'lower right'\n",
    "    data = [ws_gd_list, ws_gd_trained_list, ws_t_list, ws_inter_list, np.arange(0.5, 5+0.1, 0.1)]\n",
    "    training_x = np.ones([100])\n",
    "    step = np.max(np.array(data[:1]))/100.\n",
    "    training_y = np.arange(0, np.max(np.array(data[:1])) - step, step)\n",
    "\n",
    "  else:\n",
    "\n",
    "    x_axis = r'$\\alpha W$   where W $\\sim$ N(0, I)'\n",
    "    download = 'Weight scale ood'\n",
    "    data = [ws_gd_ood_list, ws_gd_ood_trained_list, ws_t_ood_list, ws_inter_ood_list, np.arange(0.5, 5+0.1, 0.1)]\n",
    "    training_x = np.ones([100])\n",
    "    step = np.max(np.array(data[:1]))/100.\n",
    "    training_y = np.arange(0, np.max(np.array(data[:1])) - step, step)\n",
    "\n",
    "\n",
    "\"\"\"\n",
    "title = r'Test on noisy data'\n",
    "every = 1\n",
    "log = False\n",
    "l_bound, u_bound = 0.2, 0.5\n",
    "x_axis = 'Number of noisy data samples'\n",
    "data = [losses_gd_noisy_list, losses_gd_noisy_trained_list, losses_noisy_list, losses_inter_noisy_list, np.arange(0, config.dataset_size, 2)]\n",
    "training_x = np.zeros([100])\n",
    "step = np.max(np.array(data[:1]))/100.\n",
    "training_y = np.arange(np.min(np.array(data[:1])), np.max(np.array(data[:1])) - step, step)\n",
    "\n",
    "\"\"\"\n",
    "\n",
    "pl.rcParams.update({'font.size': 12})\n",
    "\n",
    "fig, ax1 = pl.subplots()\n",
    "fig.set_size_inches(4, 3.5)\n",
    "pl.xlabel(x_axis)\n",
    "pl.ylabel('Loss')\n",
    "if log:\n",
    "  pl.yscale('log')\n",
    "\n",
    "#print(training_x, training_y)\n",
    "pl.plot(training_x[:len(training_y)], training_y, \"--\", color=\"gray\", linewidth='0.7',zorder=0)\n",
    "\n",
    "stretch = data[-1][0::every]\n",
    "gd_list = np.array(data[0])\n",
    "num_seeds = gd_list.shape[0]\n",
    "\n",
    "ir_gd_std = np.std(gd_list, axis=0)[0][0::every]\n",
    "ir_gd = np.mean(gd_list, axis=0)[0][0::every]\n",
    "\n",
    "ir_gd_trained_std = np.std(data[1], axis=0)[0][0::every]\n",
    "ir_gd_trained = np.mean(data[1], axis=0)[0][0::every]\n",
    "\n",
    "ir_t_std = np.std(data[2], axis=0)[0][0::every]\n",
    "ir_t = np.mean(data[2], axis=0)[0][0::every]\n",
    "\n",
    "ax1.scatter(stretch, ir_gd, s=[150 for _ in stretch], marker=\"v\", color=colors(0.1),\n",
    "         label=\"GD\",linewidth=3, zorder=2)\n",
    "ax1.plot(stretch, ir_gd, color=colors(0.1)\n",
    "         ,linewidth='2', zorder=2)\n",
    "\n",
    "#if num_seeds > 1:\n",
    "#  ax1.fill_between(stretch, ir_gd-ir_gd_std*1, ir_gd+ir_gd_std*1, alpha=0.2, facecolor=colors(0.1), zorder=1)\n",
    "\n",
    "if config.num_layers > 1:\n",
    "  ax1.scatter(stretch, ir_gd_trained, s=[150 for _ in stretch], marker=\"x\", color=colors(0.2),\n",
    "          label=\"GD$^{++}$\", zorder=4, linewidths=3)\n",
    "\n",
    "  ax1.plot(stretch, ir_gd_trained, color=colors(0.2), linewidth=2, zorder=4)\n",
    "  #if num_seeds > 1:\n",
    "  #  ax1.fill_between(stretch, ir_gd_trained-ir_gd_trained_std*1, ir_gd_trained+ir_gd_trained_std*1, alpha=0.2, facecolor=colors(0.2))\n",
    "\n",
    "if inter:\n",
    "  ir_inter_std = np.std(data[3], axis=0)[0][0::every]\n",
    "  ir_inter = np.mean(data[3], axis=0)[0][0::every]\n",
    "  ax1.scatter(stretch, ir_inter, s=[10 for _ in stretch], marker=\"o\", color=colors(0.4), label=\"Interpolated\", linewidths=5, zorder=7)\n",
    "  ax1.plot(stretch, ir_inter, color=colors(0.4), linewidth=2, zorder=7)\n",
    "  #ax1.plot(stretch, ir_inter, \"-\", color=colors(0.4))\n",
    "  #if num_seeds > 1:\n",
    "  #  ax1.fill_between(stretch, ir_inter-ir_inter_std*1, ir_inter+ir_inter_std*1, alpha=0.2, facecolor=colors(0.4), zorder=1)\n",
    "\n",
    "ax1.scatter(stretch, ir_t, s=[230 for _ in stretch], marker=\"+\", color=colors(0.3), alpha=1, label=\"Trained TF\", zorder=5, linewidths=3)\n",
    "#ax1.plot(stretch, ir_t, \"-\", color=colors(0.3))\n",
    "#if num_seeds > 1:\n",
    "#    ax1.fill_between(stretch, ir_t-ir_t_std*1, ir_t+ir_t_std*1, alpha=0.2, facecolor=colors(0.3), zorder=3)\n",
    "ax1.plot(stretch, ir_t, color=colors(0.3), linewidth=2, zorder=5)\n",
    "\n",
    "ax1.spines['top'].set_visible(False)\n",
    "ax1.spines['right'].set_visible(False)\n",
    "ax1.set_yticks([0.1], minor= [0.1])\n",
    "pl.title(title)\n",
    "\n",
    "legend1 = ax1.legend(loc=leg_loc,\n",
    "                     framealpha=0.85, facecolor='white')\n",
    "if 'ood' in download:\n",
    "  pl.tight_layout()\n",
    "  #pl.savefig(\"ood.pdf\", format=\"pdf\")\n",
    "  #%download_file ood.pdf\n",
    "else:\n",
    "  pl.tight_layout()\n",
    "  #pl.savefig(\"normal.pdf\", format=\"pdf\")\n",
    "  #%download_file normal.pdf\n",
    "pl.show()"
   ]
  },
  {
   "cell_type": "code",
   "execution_count": 24,
   "metadata": {
    "colab": {
     "base_uri": "https://localhost:8080/",
     "height": 391
    },
    "id": "sWubN8gZ8xiZ",
    "outputId": "7717272d-a09a-43bc-df2f-80c26f12c636"
   },
   "outputs": [
    {
     "data": {
      "image/png": "[encoded data removed]",
      "text/plain": [
       "<Figure size 900x300 with 4 Axes>"
      ]
     },
     "metadata": {},
     "output_type": "display_data"
    }
   ],
   "source": [
    "#@title Visualize weights of Transformer\n",
    "\n",
    "num_dim = config.key_size\n",
    "for n in range(config.num_layers):\n",
    "  for head in range(config.num_heads):\n",
    "    KQ = jnp.identity(config.input_size + 1) # the og was dataset_size, but I think input_size is right here\n",
    "    LV = jnp.identity(config.input_size + 1)\n",
    "    #print(\"Layer \", n, \"Head \", head)\n",
    "    fig, (ax1, ax2) = pl.subplots(figsize=(9, 3), ncols=2)\n",
    "    ax1.set_yticks(ticks=range(0, config.key_size))\n",
    "    ax1.set_yticklabels(range(1, config.key_size+1))\n",
    "    ax1.set_xticks(ticks=range(0, config.key_size))\n",
    "    ax1.set_xticklabels(range(1, config.key_size+1))\n",
    "\n",
    "    ax2.set_yticks(ticks=range(0, config.key_size))\n",
    "    ax2.set_yticklabels(range(1, config.key_size+1))\n",
    "    ax2.set_xticks(ticks=range(0, config.key_size))\n",
    "    ax2.set_xticklabels(range(1, config.key_size+1))\n",
    "\n",
    "    for k,v in train_state.params.items():\n",
    "      if config.deq == True or (str(n) in k and config.deq == False):\n",
    "        #print(k, head, v['w'].shape, )\n",
    "        if \"key\" in k:\n",
    "          KQ = jnp.matmul(KQ, v['w'][:, head*num_dim: (head+1)*num_dim])\n",
    "        elif \"query\" in k:\n",
    "          KQ = jnp.matmul(KQ, v['w'][:, head*num_dim: (head+1)*num_dim].T)\n",
    "        elif \"value\" in k:\n",
    "          LV = jnp.matmul(v['w'][:, head*num_dim: (head+1)*num_dim], LV)\n",
    "        elif \"linear\" in k:\n",
    "          LV = jnp.matmul(v['w'][head*num_dim: (head+1)*num_dim, :], LV)\n",
    "\n",
    "    if head == 0:\n",
    "      first = KQ*LV[-1, -1]\n",
    "    if head == 1:\n",
    "      second = KQ*LV[-1, -1]\n",
    "\n",
    "    vmin = jnp.max(jnp.abs(KQ))\n",
    "    vmin2 = jnp.max(jnp.abs(LV))\n",
    "    vmin = np.max([vmin, vmin2])\n",
    "    ax1.set_title(\"Weights of $W^T_KW_V$\")\n",
    "    pos = ax1.imshow(KQ, cmap='RdBu', vmin=-vmin, vmax=vmin)\n",
    "    fig.colorbar(pos, ax=ax1, shrink=1)\n",
    "    ax2.set_title(\"Weight of $PW_V$\")\n",
    "\n",
    "    pos = ax2.imshow(LV, cmap='RdBu', vmin=-vmin, vmax=vmin)\n",
    "    fig.colorbar(pos, ax=ax2, shrink=1)\n",
    "    pl.show()\n"
   ]
  },
  {
   "cell_type": "code",
   "execution_count": null,
   "metadata": {},
   "outputs": [],
   "source": []
  }
 ],
 "metadata": {
  "accelerator": "TPU",
  "colab": {
   "gpuType": "V28",
   "provenance": []
  },
  "kernelspec": {
   "display_name": "Python 3 (ipykernel)",
   "language": "python",
   "name": "python3"
  },
  "language_info": {
   "codemirror_mode": {
    "name": "ipython",
    "version": 3
   },
   "file_extension": ".py",
   "mimetype": "text/x-python",
   "name": "python",
   "nbconvert_exporter": "python",
   "pygments_lexer": "ipython3",
   "version": "3.11.7"
  },
  "vscode": {
   "interpreter": {
    "hash": "31f2aee4e71d21fbe5cf8b01ff0e069b9275f58929596ceb00d14d90e3e16cd6"
   }
  }
 },
 "nbformat": 4,
 "nbformat_minor": 1
}
